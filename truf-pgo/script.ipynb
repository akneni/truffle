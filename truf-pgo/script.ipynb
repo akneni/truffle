{
 "cells": [
  {
   "cell_type": "code",
   "execution_count": 1,
   "metadata": {},
   "outputs": [],
   "source": [
    "from dataclasses import dataclass\n",
    "import shelve\n",
    "from datetime import datetime\n",
    "import random\n",
    "from scripts import utils\n",
    "from pprint import pprint\n",
    "import hashlib\n",
    "import os\n",
    "import numpy as np\n",
    "import matplotlib.pyplot as plt\n",
    "import polars as pl\n",
    "plt.style.use('dark_background')"
   ]
  },
  {
   "cell_type": "code",
   "execution_count": 2,
   "metadata": {},
   "outputs": [],
   "source": [
    "DF_PATH = './benchmarking-dataset/runtime-data.parquet'"
   ]
  },
  {
   "cell_type": "markdown",
   "metadata": {},
   "source": [
    "## Data Visualization"
   ]
  },
  {
   "cell_type": "code",
   "execution_count": 3,
   "metadata": {},
   "outputs": [
    {
     "data": {
      "text/html": [
       "<div><style>\n",
       ".dataframe > thead > tr,\n",
       ".dataframe > tbody > tr {\n",
       "  text-align: right;\n",
       "  white-space: pre-wrap;\n",
       "}\n",
       "</style>\n",
       "<small>shape: (799, 20)</small><table border=\"1\" class=\"dataframe\"><thead><tr><th>c_filename</th><th>flags</th><th>runtime</th><th>created_at</th><th>trials</th><th>sys_specs_hash</th><th>sys_specs_os</th><th>sys_specs_cpu</th><th>sys_specs_compiler</th><th>sys_specs_os_version</th><th>sys_specs_cpu_arch</th><th>sys_specs_cpu_physical_cores</th><th>sys_specs_cpu_logical_cores</th><th>sys_specs_mem_size_gb</th><th>sys_specs_mem_speed_mhz</th><th>sys_specs_l1_i_size</th><th>sys_specs_l1_d_size</th><th>sys_specs_l2_size</th><th>sys_specs_l3_size</th><th>id</th></tr><tr><td>str</td><td>str</td><td>f64</td><td>datetime[μs]</td><td>i64</td><td>str</td><td>str</td><td>str</td><td>str</td><td>str</td><td>str</td><td>i64</td><td>i64</td><td>f64</td><td>null</td><td>str</td><td>str</td><td>str</td><td>str</td><td>str</td></tr></thead><tbody><tr><td>&quot;eigenvalue-33c06ce6.c&quot;</td><td>&quot;-O3 -march=native -mtune=nativ…</td><td>0.304516</td><td>2024-11-03 22:30:10.171520</td><td>4</td><td>&quot;04c116405dd7c5743463fa90b64467…</td><td>&quot;Linux&quot;</td><td>&quot;AMD Ryzen 9 3950X 16-Core Proc…</td><td>&quot;gcc (Ubuntu 11.4.0-1ubuntu1~22…</td><td>&quot;Linux-6.9.3-76060903-generic-x…</td><td>&quot;x86_64&quot;</td><td>16</td><td>32</td><td>32.780768</td><td>null</td><td>&quot;512 KiB (16 instances)&quot;</td><td>&quot;512 KiB (16 instances)&quot;</td><td>&quot;8 MiB (16 instances)&quot;</td><td>&quot;64 MiB (4 instances)&quot;</td><td>&quot;948bddda92e7f5e374c0cfa1049165…</td></tr><tr><td>&quot;eigenvalue-33c06ce6.c&quot;</td><td>&quot;-O3 -funroll-loops -fprefetch-…</td><td>0.304858</td><td>2024-11-03 22:29:59.796546</td><td>4</td><td>&quot;04c116405dd7c5743463fa90b64467…</td><td>&quot;Linux&quot;</td><td>&quot;AMD Ryzen 9 3950X 16-Core Proc…</td><td>&quot;gcc (Ubuntu 11.4.0-1ubuntu1~22…</td><td>&quot;Linux-6.9.3-76060903-generic-x…</td><td>&quot;x86_64&quot;</td><td>16</td><td>32</td><td>32.780768</td><td>null</td><td>&quot;512 KiB (16 instances)&quot;</td><td>&quot;512 KiB (16 instances)&quot;</td><td>&quot;8 MiB (16 instances)&quot;</td><td>&quot;64 MiB (4 instances)&quot;</td><td>&quot;fa886d31e2da16d92dea8e4bed3c39…</td></tr><tr><td>&quot;eigenvalue-33c06ce6.c&quot;</td><td>&quot;-O3 -funroll-loops -march=nati…</td><td>0.41399</td><td>2024-11-03 22:29:59.449327</td><td>4</td><td>&quot;04c116405dd7c5743463fa90b64467…</td><td>&quot;Linux&quot;</td><td>&quot;AMD Ryzen 9 3950X 16-Core Proc…</td><td>&quot;gcc (Ubuntu 11.4.0-1ubuntu1~22…</td><td>&quot;Linux-6.9.3-76060903-generic-x…</td><td>&quot;x86_64&quot;</td><td>16</td><td>32</td><td>32.780768</td><td>null</td><td>&quot;512 KiB (16 instances)&quot;</td><td>&quot;512 KiB (16 instances)&quot;</td><td>&quot;8 MiB (16 instances)&quot;</td><td>&quot;64 MiB (4 instances)&quot;</td><td>&quot;9bef08bfb4fff715a387f79d80c043…</td></tr><tr><td>&quot;eigenvalue-33c06ce6.c&quot;</td><td>&quot;-O3 -march=native -funroll-loo…</td><td>0.414015</td><td>2024-11-03 22:29:50.755481</td><td>4</td><td>&quot;04c116405dd7c5743463fa90b64467…</td><td>&quot;Linux&quot;</td><td>&quot;AMD Ryzen 9 3950X 16-Core Proc…</td><td>&quot;gcc (Ubuntu 11.4.0-1ubuntu1~22…</td><td>&quot;Linux-6.9.3-76060903-generic-x…</td><td>&quot;x86_64&quot;</td><td>16</td><td>32</td><td>32.780768</td><td>null</td><td>&quot;512 KiB (16 instances)&quot;</td><td>&quot;512 KiB (16 instances)&quot;</td><td>&quot;8 MiB (16 instances)&quot;</td><td>&quot;64 MiB (4 instances)&quot;</td><td>&quot;52a4971819d05b87a67712f029741b…</td></tr><tr><td>&quot;eigenvalue-33c06ce6.c&quot;</td><td>&quot;-O3 -ffast-math -funroll-loops…</td><td>0.41501</td><td>2024-11-03 22:29:57.171162</td><td>4</td><td>&quot;04c116405dd7c5743463fa90b64467…</td><td>&quot;Linux&quot;</td><td>&quot;AMD Ryzen 9 3950X 16-Core Proc…</td><td>&quot;gcc (Ubuntu 11.4.0-1ubuntu1~22…</td><td>&quot;Linux-6.9.3-76060903-generic-x…</td><td>&quot;x86_64&quot;</td><td>16</td><td>32</td><td>32.780768</td><td>null</td><td>&quot;512 KiB (16 instances)&quot;</td><td>&quot;512 KiB (16 instances)&quot;</td><td>&quot;8 MiB (16 instances)&quot;</td><td>&quot;64 MiB (4 instances)&quot;</td><td>&quot;2fd2e51049c878750c7cb46ef0de9c…</td></tr><tr><td>&hellip;</td><td>&hellip;</td><td>&hellip;</td><td>&hellip;</td><td>&hellip;</td><td>&hellip;</td><td>&hellip;</td><td>&hellip;</td><td>&hellip;</td><td>&hellip;</td><td>&hellip;</td><td>&hellip;</td><td>&hellip;</td><td>&hellip;</td><td>&hellip;</td><td>&hellip;</td><td>&hellip;</td><td>&hellip;</td><td>&hellip;</td><td>&hellip;</td></tr><tr><td>&quot;cond-branching-87209a89.c&quot;</td><td>&quot;-O3 -flto -fwhole-program -mar…</td><td>4.4576</td><td>2024-11-03 21:43:32.089278</td><td>4</td><td>&quot;04c116405dd7c5743463fa90b64467…</td><td>&quot;Linux&quot;</td><td>&quot;AMD Ryzen 9 3950X 16-Core Proc…</td><td>&quot;gcc (Ubuntu 11.4.0-1ubuntu1~22…</td><td>&quot;Linux-6.9.3-76060903-generic-x…</td><td>&quot;x86_64&quot;</td><td>16</td><td>32</td><td>32.780768</td><td>null</td><td>&quot;512 KiB (16 instances)&quot;</td><td>&quot;512 KiB (16 instances)&quot;</td><td>&quot;8 MiB (16 instances)&quot;</td><td>&quot;64 MiB (4 instances)&quot;</td><td>&quot;c4b3cb18925e849d4cc904262ff496…</td></tr><tr><td>&quot;cond-branching-87209a89.c&quot;</td><td>&quot;-O3 -mtune=native -funroll-loo…</td><td>4.467</td><td>2024-11-03 21:42:57.122584</td><td>4</td><td>&quot;04c116405dd7c5743463fa90b64467…</td><td>&quot;Linux&quot;</td><td>&quot;AMD Ryzen 9 3950X 16-Core Proc…</td><td>&quot;gcc (Ubuntu 11.4.0-1ubuntu1~22…</td><td>&quot;Linux-6.9.3-76060903-generic-x…</td><td>&quot;x86_64&quot;</td><td>16</td><td>32</td><td>32.780768</td><td>null</td><td>&quot;512 KiB (16 instances)&quot;</td><td>&quot;512 KiB (16 instances)&quot;</td><td>&quot;8 MiB (16 instances)&quot;</td><td>&quot;64 MiB (4 instances)&quot;</td><td>&quot;947b96015fe6d7ad79eb5ad66391e7…</td></tr><tr><td>&quot;cond-branching-87209a89.c&quot;</td><td>&quot;-O3 -funroll-loops -flto&quot;</td><td>4.469425</td><td>2024-11-03 21:41:33.502398</td><td>4</td><td>&quot;04c116405dd7c5743463fa90b64467…</td><td>&quot;Linux&quot;</td><td>&quot;AMD Ryzen 9 3950X 16-Core Proc…</td><td>&quot;gcc (Ubuntu 11.4.0-1ubuntu1~22…</td><td>&quot;Linux-6.9.3-76060903-generic-x…</td><td>&quot;x86_64&quot;</td><td>16</td><td>32</td><td>32.780768</td><td>null</td><td>&quot;512 KiB (16 instances)&quot;</td><td>&quot;512 KiB (16 instances)&quot;</td><td>&quot;8 MiB (16 instances)&quot;</td><td>&quot;64 MiB (4 instances)&quot;</td><td>&quot;28b31a0705d2555865059d86cb0425…</td></tr><tr><td>&quot;cond-branching-87209a89.c&quot;</td><td>&quot;-O3 -funroll-loops&quot;</td><td>4.470075</td><td>2024-11-03 21:40:40.119228</td><td>4</td><td>&quot;04c116405dd7c5743463fa90b64467…</td><td>&quot;Linux&quot;</td><td>&quot;AMD Ryzen 9 3950X 16-Core Proc…</td><td>&quot;gcc (Ubuntu 11.4.0-1ubuntu1~22…</td><td>&quot;Linux-6.9.3-76060903-generic-x…</td><td>&quot;x86_64&quot;</td><td>16</td><td>32</td><td>32.780768</td><td>null</td><td>&quot;512 KiB (16 instances)&quot;</td><td>&quot;512 KiB (16 instances)&quot;</td><td>&quot;8 MiB (16 instances)&quot;</td><td>&quot;64 MiB (4 instances)&quot;</td><td>&quot;65670b6218e74f9dc73b9d73390090…</td></tr><tr><td>&quot;cond-branching-87209a89.c&quot;</td><td>&quot;-O3 -funroll-loops -fomit-fram…</td><td>4.4709</td><td>2024-11-03 21:41:42.476117</td><td>4</td><td>&quot;04c116405dd7c5743463fa90b64467…</td><td>&quot;Linux&quot;</td><td>&quot;AMD Ryzen 9 3950X 16-Core Proc…</td><td>&quot;gcc (Ubuntu 11.4.0-1ubuntu1~22…</td><td>&quot;Linux-6.9.3-76060903-generic-x…</td><td>&quot;x86_64&quot;</td><td>16</td><td>32</td><td>32.780768</td><td>null</td><td>&quot;512 KiB (16 instances)&quot;</td><td>&quot;512 KiB (16 instances)&quot;</td><td>&quot;8 MiB (16 instances)&quot;</td><td>&quot;64 MiB (4 instances)&quot;</td><td>&quot;00fd12399643261da722e4cb3adc18…</td></tr></tbody></table></div>"
      ],
      "text/plain": [
       "shape: (799, 20)\n",
       "┌───────────┬───────────┬──────────┬───────────┬───┬───────────┬───────────┬───────────┬───────────┐\n",
       "│ c_filenam ┆ flags     ┆ runtime  ┆ created_a ┆ … ┆ sys_specs ┆ sys_specs ┆ sys_specs ┆ id        │\n",
       "│ e         ┆ ---       ┆ ---      ┆ t         ┆   ┆ _l1_d_siz ┆ _l2_size  ┆ _l3_size  ┆ ---       │\n",
       "│ ---       ┆ str       ┆ f64      ┆ ---       ┆   ┆ e         ┆ ---       ┆ ---       ┆ str       │\n",
       "│ str       ┆           ┆          ┆ datetime[ ┆   ┆ ---       ┆ str       ┆ str       ┆           │\n",
       "│           ┆           ┆          ┆ μs]       ┆   ┆ str       ┆           ┆           ┆           │\n",
       "╞═══════════╪═══════════╪══════════╪═══════════╪═══╪═══════════╪═══════════╪═══════════╪═══════════╡\n",
       "│ eigenvalu ┆ -O3 -marc ┆ 0.304516 ┆ 2024-11-0 ┆ … ┆ 512 KiB   ┆ 8 MiB (16 ┆ 64 MiB (4 ┆ 948bddda9 │\n",
       "│ e-33c06ce ┆ h=native  ┆          ┆ 3 22:30:1 ┆   ┆ (16 insta ┆ instances ┆ instances ┆ 2e7f5e374 │\n",
       "│ 6.c       ┆ -mtune=na ┆          ┆ 0.171520  ┆   ┆ nces)     ┆ )         ┆ )         ┆ c0cfa1049 │\n",
       "│           ┆ tiv…      ┆          ┆           ┆   ┆           ┆           ┆           ┆ 165…      │\n",
       "│ eigenvalu ┆ -O3 -funr ┆ 0.304858 ┆ 2024-11-0 ┆ … ┆ 512 KiB   ┆ 8 MiB (16 ┆ 64 MiB (4 ┆ fa886d31e │\n",
       "│ e-33c06ce ┆ oll-loops ┆          ┆ 3 22:29:5 ┆   ┆ (16 insta ┆ instances ┆ instances ┆ 2da16d92d │\n",
       "│ 6.c       ┆ -fprefetc ┆          ┆ 9.796546  ┆   ┆ nces)     ┆ )         ┆ )         ┆ ea8e4bed3 │\n",
       "│           ┆ h-…       ┆          ┆           ┆   ┆           ┆           ┆           ┆ c39…      │\n",
       "│ eigenvalu ┆ -O3 -funr ┆ 0.41399  ┆ 2024-11-0 ┆ … ┆ 512 KiB   ┆ 8 MiB (16 ┆ 64 MiB (4 ┆ 9bef08bfb │\n",
       "│ e-33c06ce ┆ oll-loops ┆          ┆ 3 22:29:5 ┆   ┆ (16 insta ┆ instances ┆ instances ┆ 4fff715a3 │\n",
       "│ 6.c       ┆ -march=na ┆          ┆ 9.449327  ┆   ┆ nces)     ┆ )         ┆ )         ┆ 87f79d80c │\n",
       "│           ┆ ti…       ┆          ┆           ┆   ┆           ┆           ┆           ┆ 043…      │\n",
       "│ eigenvalu ┆ -O3 -marc ┆ 0.414015 ┆ 2024-11-0 ┆ … ┆ 512 KiB   ┆ 8 MiB (16 ┆ 64 MiB (4 ┆ 52a497181 │\n",
       "│ e-33c06ce ┆ h=native  ┆          ┆ 3 22:29:5 ┆   ┆ (16 insta ┆ instances ┆ instances ┆ 9d05b87a6 │\n",
       "│ 6.c       ┆ -funroll- ┆          ┆ 0.755481  ┆   ┆ nces)     ┆ )         ┆ )         ┆ 7712f0297 │\n",
       "│           ┆ loo…      ┆          ┆           ┆   ┆           ┆           ┆           ┆ 41b…      │\n",
       "│ eigenvalu ┆ -O3 -ffas ┆ 0.41501  ┆ 2024-11-0 ┆ … ┆ 512 KiB   ┆ 8 MiB (16 ┆ 64 MiB (4 ┆ 2fd2e5104 │\n",
       "│ e-33c06ce ┆ t-math    ┆          ┆ 3 22:29:5 ┆   ┆ (16 insta ┆ instances ┆ instances ┆ 9c878750c │\n",
       "│ 6.c       ┆ -funroll- ┆          ┆ 7.171162  ┆   ┆ nces)     ┆ )         ┆ )         ┆ 7cb46ef0d │\n",
       "│           ┆ loops…    ┆          ┆           ┆   ┆           ┆           ┆           ┆ e9c…      │\n",
       "│ …         ┆ …         ┆ …        ┆ …         ┆ … ┆ …         ┆ …         ┆ …         ┆ …         │\n",
       "│ cond-bran ┆ -O3 -flto ┆ 4.4576   ┆ 2024-11-0 ┆ … ┆ 512 KiB   ┆ 8 MiB (16 ┆ 64 MiB (4 ┆ c4b3cb189 │\n",
       "│ ching-872 ┆ -fwhole-p ┆          ┆ 3 21:43:3 ┆   ┆ (16 insta ┆ instances ┆ instances ┆ 25e849d4c │\n",
       "│ 09a89.c   ┆ rogram    ┆          ┆ 2.089278  ┆   ┆ nces)     ┆ )         ┆ )         ┆ c904262ff │\n",
       "│           ┆ -mar…     ┆          ┆           ┆   ┆           ┆           ┆           ┆ 496…      │\n",
       "│ cond-bran ┆ -O3 -mtun ┆ 4.467    ┆ 2024-11-0 ┆ … ┆ 512 KiB   ┆ 8 MiB (16 ┆ 64 MiB (4 ┆ 947b96015 │\n",
       "│ ching-872 ┆ e=native  ┆          ┆ 3 21:42:5 ┆   ┆ (16 insta ┆ instances ┆ instances ┆ fe6d7ad79 │\n",
       "│ 09a89.c   ┆ -funroll- ┆          ┆ 7.122584  ┆   ┆ nces)     ┆ )         ┆ )         ┆ eb5ad6639 │\n",
       "│           ┆ loo…      ┆          ┆           ┆   ┆           ┆           ┆           ┆ 1e7…      │\n",
       "│ cond-bran ┆ -O3 -funr ┆ 4.469425 ┆ 2024-11-0 ┆ … ┆ 512 KiB   ┆ 8 MiB (16 ┆ 64 MiB (4 ┆ 28b31a070 │\n",
       "│ ching-872 ┆ oll-loops ┆          ┆ 3 21:41:3 ┆   ┆ (16 insta ┆ instances ┆ instances ┆ 5d2555865 │\n",
       "│ 09a89.c   ┆ -flto     ┆          ┆ 3.502398  ┆   ┆ nces)     ┆ )         ┆ )         ┆ 059d86cb0 │\n",
       "│           ┆           ┆          ┆           ┆   ┆           ┆           ┆           ┆ 425…      │\n",
       "│ cond-bran ┆ -O3 -funr ┆ 4.470075 ┆ 2024-11-0 ┆ … ┆ 512 KiB   ┆ 8 MiB (16 ┆ 64 MiB (4 ┆ 65670b621 │\n",
       "│ ching-872 ┆ oll-loops ┆          ┆ 3 21:40:4 ┆   ┆ (16 insta ┆ instances ┆ instances ┆ 8e74f9dc7 │\n",
       "│ 09a89.c   ┆           ┆          ┆ 0.119228  ┆   ┆ nces)     ┆ )         ┆ )         ┆ 3b9d73390 │\n",
       "│           ┆           ┆          ┆           ┆   ┆           ┆           ┆           ┆ 090…      │\n",
       "│ cond-bran ┆ -O3 -funr ┆ 4.4709   ┆ 2024-11-0 ┆ … ┆ 512 KiB   ┆ 8 MiB (16 ┆ 64 MiB (4 ┆ 00fd12399 │\n",
       "│ ching-872 ┆ oll-loops ┆          ┆ 3 21:41:4 ┆   ┆ (16 insta ┆ instances ┆ instances ┆ 643261da7 │\n",
       "│ 09a89.c   ┆ -fomit-fr ┆          ┆ 2.476117  ┆   ┆ nces)     ┆ )         ┆ )         ┆ 22e4cb3ad │\n",
       "│           ┆ am…       ┆          ┆           ┆   ┆           ┆           ┆           ┆ c18…      │\n",
       "└───────────┴───────────┴──────────┴───────────┴───┴───────────┴───────────┴───────────┴───────────┘"
      ]
     },
     "execution_count": 3,
     "metadata": {},
     "output_type": "execute_result"
    }
   ],
   "source": [
    "df = pl.read_parquet(DF_PATH) \\\n",
    "    # .filter(pl.col('c_filename') == 'n-bodies-753227e0.c')\n",
    "\t# .filter(pl.col('flags').is_in([\"-O3\", \"-O3 -fwhole-program\"])) \\\n",
    "df.sort(pl.col('runtime'))"
   ]
  },
  {
   "cell_type": "code",
   "execution_count": 11,
   "metadata": {},
   "outputs": [
    {
     "data": {
      "text/html": [
       "<div><style>\n",
       ".dataframe > thead > tr,\n",
       ".dataframe > tbody > tr {\n",
       "  text-align: right;\n",
       "  white-space: pre-wrap;\n",
       "}\n",
       "</style>\n",
       "<small>shape: (47, 2)</small><table border=\"1\" class=\"dataframe\"><thead><tr><th>flags</th><th>runtime</th></tr><tr><td>str</td><td>f64</td></tr></thead><tbody><tr><td>&quot;-O3 -march=native -mtune=nativ…</td><td>1.67875</td></tr><tr><td>&quot;-O3 -funroll-loops -fprefetch-…</td><td>1.684625</td></tr><tr><td>&quot;-O3 -fno-math-errno -funsafe-m…</td><td>1.68826</td></tr><tr><td>&quot;-O3 -funroll-loops -march=nati…</td><td>1.692614</td></tr><tr><td>&quot;-O3 -march=native -funroll-loo…</td><td>1.695994</td></tr><tr><td>&hellip;</td><td>&hellip;</td></tr><tr><td>&quot;-O3 -falign-functions=32&quot;</td><td>1.885852</td></tr><tr><td>&quot;-O3 -falign-loops=32&quot;</td><td>1.886399</td></tr><tr><td>&quot;-O3&quot;</td><td>1.88736</td></tr><tr><td>&quot;-O3 -fipa-pta&quot;</td><td>1.88752</td></tr><tr><td>&quot;-O3 -ftree-vectorize&quot;</td><td>1.889027</td></tr></tbody></table></div>"
      ],
      "text/plain": [
       "shape: (47, 2)\n",
       "┌─────────────────────────────────┬──────────┐\n",
       "│ flags                           ┆ runtime  │\n",
       "│ ---                             ┆ ---      │\n",
       "│ str                             ┆ f64      │\n",
       "╞═════════════════════════════════╪══════════╡\n",
       "│ -O3 -march=native -mtune=nativ… ┆ 1.67875  │\n",
       "│ -O3 -funroll-loops -fprefetch-… ┆ 1.684625 │\n",
       "│ -O3 -fno-math-errno -funsafe-m… ┆ 1.68826  │\n",
       "│ -O3 -funroll-loops -march=nati… ┆ 1.692614 │\n",
       "│ -O3 -march=native -funroll-loo… ┆ 1.695994 │\n",
       "│ …                               ┆ …        │\n",
       "│ -O3 -falign-functions=32        ┆ 1.885852 │\n",
       "│ -O3 -falign-loops=32            ┆ 1.886399 │\n",
       "│ -O3                             ┆ 1.88736  │\n",
       "│ -O3 -fipa-pta                   ┆ 1.88752  │\n",
       "│ -O3 -ftree-vectorize            ┆ 1.889027 │\n",
       "└─────────────────────────────────┴──────────┘"
      ]
     },
     "execution_count": 11,
     "metadata": {},
     "output_type": "execute_result"
    }
   ],
   "source": [
    "df_grouped = df[['flags', 'runtime']].group_by(pl.col('flags')).mean()\n",
    "df_grouped = df_grouped.sort(pl.col('runtime'))\n",
    "df_grouped"
   ]
  },
  {
   "cell_type": "code",
   "execution_count": 12,
   "metadata": {},
   "outputs": [
    {
     "data": {
      "text/plain": [
       "['-O3 -march=native -mtune=native -funroll-loops -fprefetch-loop-arrays -flto -ffast-math -fno-math-errno -funsafe-math-optimizations -fomit-frame-pointer -fwhole-program -fmerge-all-constants -fipa-pta -falign-functions=32 -falign-loops=32',\n",
       " '-O3 -funroll-loops -fprefetch-loop-arrays -march=native -ffast-math',\n",
       " '-O3 -fno-math-errno -funsafe-math-optimizations -march=native -funroll-loops',\n",
       " '-O3 -funroll-loops -march=native -mtune=native -fno-math-errno -ffast-math',\n",
       " '-O3 -march=native -funroll-loops -funsafe-math-optimizations -ffast-math',\n",
       " '-O3 -march=native -funroll-loops -ffast-math',\n",
       " '-O3 -fwhole-program -funroll-loops -march=native -ffast-math',\n",
       " '-O3 -ffast-math -funroll-loops -fwhole-program -march=native',\n",
       " '-O3 -funsafe-math-optimizations -fomit-frame-pointer -funroll-loops -flto',\n",
       " '-O3 -ffast-math -funroll-loops -fomit-frame-pointer -flto',\n",
       " '-O3 -funroll-loops -funsafe-math-optimizations -flto',\n",
       " '-O3 -mtune=native -funroll-loops -funsafe-math-optimizations',\n",
       " '-O3 -march=native -fwhole-program -funsafe-math-optimizations',\n",
       " '-O3 -march=native -mtune=native -funsafe-math-optimizations',\n",
       " '-O3 -funroll-loops -fno-math-errno -march=native',\n",
       " '-O3 -flto -fwhole-program -march=native -funroll-loops',\n",
       " '-O3 -funroll-loops -fprefetch-loop-arrays -march=native -flto',\n",
       " '-O3 -funroll-loops -march=native -fwhole-program -flto',\n",
       " '-O3 -ffast-math -fno-math-errno -fomit-frame-pointer -flto',\n",
       " '-O3 -fwhole-program -flto -fomit-frame-pointer -funsafe-math-optimizations',\n",
       " '-O3 -ffast-math -fno-math-errno -funsafe-math-optimizations',\n",
       " '-O3 -ffast-math',\n",
       " '-O3 -mtune=native -funroll-loops -fwhole-program -flto',\n",
       " '-O3 -funroll-loops',\n",
       " '-O3 -fprefetch-loop-arrays -funroll-loops -flto',\n",
       " '-O3 -funroll-loops -fprefetch-loop-arrays -flto',\n",
       " '-O3 -funroll-loops -fomit-frame-pointer -flto',\n",
       " '-O3 -funroll-loops -flto',\n",
       " '-O3 -fwhole-program -flto -march=native',\n",
       " '-O3 -march=native -fomit-frame-pointer -fwhole-program -flto',\n",
       " '-O3 -march=native -mtune=native -flto',\n",
       " '-O3 -march=native -fomit-frame-pointer -flto',\n",
       " '-O3 -march=native -mtune=native -flto -fwhole-program',\n",
       " '-O3 -march=native',\n",
       " '-O3 -funsafe-math-optimizations',\n",
       " '-O3 -fprefetch-loop-arrays',\n",
       " '-O3 -flto -fomit-frame-pointer -fno-math-errno',\n",
       " '-O3 -fwhole-program',\n",
       " '-O3 -flto',\n",
       " '-O3 -fno-math-errno',\n",
       " '-O3 -mtune=native',\n",
       " '-O3 -fomit-frame-pointer',\n",
       " '-O3 -falign-functions=32',\n",
       " '-O3 -falign-loops=32',\n",
       " '-O3',\n",
       " '-O3 -fipa-pta',\n",
       " '-O3 -ftree-vectorize']"
      ]
     },
     "execution_count": 12,
     "metadata": {},
     "output_type": "execute_result"
    }
   ],
   "source": [
    "df_grouped['flags'].to_list()"
   ]
  },
  {
   "cell_type": "code",
   "execution_count": 10,
   "metadata": {},
   "outputs": [
    {
     "data": {
      "text/html": [
       "<div><style>\n",
       ".dataframe > thead > tr,\n",
       ".dataframe > tbody > tr {\n",
       "  text-align: right;\n",
       "  white-space: pre-wrap;\n",
       "}\n",
       "</style>\n",
       "<small>shape: (47,)</small><table border=\"1\" class=\"dataframe\"><thead><tr><th>flags</th></tr><tr><td>str</td></tr></thead><tbody><tr><td>&quot;-O3 -funroll-loops -fprefetch-…</td></tr><tr><td>&quot;-O3 -fwhole-program&quot;</td></tr><tr><td>&quot;-O3 -ffast-math -fno-math-errn…</td></tr><tr><td>&quot;-O3 -ffast-math -fno-math-errn…</td></tr><tr><td>&quot;-O3 -ftree-vectorize&quot;</td></tr><tr><td>&hellip;</td></tr><tr><td>&quot;-O3 -fno-math-errno -funsafe-m…</td></tr><tr><td>&quot;-O3 -march=native&quot;</td></tr><tr><td>&quot;-O3 -falign-functions=32&quot;</td></tr><tr><td>&quot;-O3 -funroll-loops -march=nati…</td></tr><tr><td>&quot;-O3 -march=native -mtune=nativ…</td></tr></tbody></table></div>"
      ],
      "text/plain": [
       "shape: (47,)\n",
       "Series: 'flags' [str]\n",
       "[\n",
       "\t\"-O3 -funroll-loops -fprefetch-…\n",
       "\t\"-O3 -fwhole-program\"\n",
       "\t\"-O3 -ffast-math -fno-math-errn…\n",
       "\t\"-O3 -ffast-math -fno-math-errn…\n",
       "\t\"-O3 -ftree-vectorize\"\n",
       "\t…\n",
       "\t\"-O3 -fno-math-errno -funsafe-m…\n",
       "\t\"-O3 -march=native\"\n",
       "\t\"-O3 -falign-functions=32\"\n",
       "\t\"-O3 -funroll-loops -march=nati…\n",
       "\t\"-O3 -march=native -mtune=nativ…\n",
       "]"
      ]
     },
     "execution_count": 10,
     "metadata": {},
     "output_type": "execute_result"
    }
   ],
   "source": [
    "df['flags'].unique()"
   ]
  },
  {
   "cell_type": "markdown",
   "metadata": {},
   "source": [
    "## Scratch"
   ]
  },
  {
   "cell_type": "code",
   "execution_count": 2,
   "metadata": {},
   "outputs": [
    {
     "data": {
      "text/plain": [
       "SystemSpec(os='Linux', cpu='AMD Ryzen 9 3950X 16-Core Processor', compiler='gcc (Ubuntu 11.4.0-1ubuntu1~22.04) 11.4.0', os_version='Linux-6.9.3-76060903-generic-x86_64-with-glibc2.35', cpu_arch='x86_64', cpu_physical_cores=16, cpu_logical_cores=32, mem_size_gb=32.780768, mem_speed_mhz=None, l1_i_size='512 KiB (16 instances)', l1_d_size='512 KiB (16 instances)', l2_size='8 MiB (16 instances)', l3_size='64 MiB (4 instances)')"
      ]
     },
     "execution_count": 2,
     "metadata": {},
     "output_type": "execute_result"
    }
   ],
   "source": [
    "utils.SystemSpec.generate()"
   ]
  },
  {
   "cell_type": "code",
   "execution_count": null,
   "metadata": {},
   "outputs": [],
   "source": [
    "with shelve.open('./benchmarking-dataset/benchmark.shelve') as db:\n",
    "    data = dict(db)\n",
    "len(data)"
   ]
  },
  {
   "cell_type": "code",
   "execution_count": null,
   "metadata": {},
   "outputs": [],
   "source": [
    "idx = 9\n",
    "ptr: utils.ExecutionTrial = list(data.values())[idx]\n",
    "print(ptr.c_filename)\n",
    "print(ptr.flags)\n",
    "print(ptr.time_elapsed())"
   ]
  },
  {
   "cell_type": "code",
   "execution_count": 4,
   "metadata": {},
   "outputs": [
    {
     "data": {
      "text/plain": [
       "3060"
      ]
     },
     "execution_count": 4,
     "metadata": {},
     "output_type": "execute_result"
    }
   ],
   "source": [
    "flags = [\n",
    "\t# Control\n",
    "\t\"-O3\",\n",
    "\n",
    "\t# Base optimization flags\n",
    "\t\"-O3 -funroll-loops\",\n",
    "\t\"-O3 -fprefetch-loop-arrays\",\n",
    "\t\"-O3 -flto\",\n",
    "\t\"-O3 -ffast-math\",\n",
    "\t\"-O3 -fno-math-errno\",\n",
    "\t\"-O3 -funsafe-math-optimizations\",\n",
    "\t\"-O3 -march=native\",\n",
    "\t\"-O3 -mtune=native\",\n",
    "\t\"-O3 -fomit-frame-pointer\",\n",
    "\t\"-O3 -fwhole-program\",\n",
    "\t\"-O3 -falign-loops=32\",\n",
    "\t\"-O3 -falign-functions=32\",\n",
    "\n",
    "\t# Combinations of optimization flag\n",
    "\t\"-O3 -funroll-loops -flto\",                              \n",
    "\t\"-O3 -march=native -mtune=native -flto\",                 \n",
    "\t\"-O3 -funroll-loops -fomit-frame-pointer -flto\",         \n",
    "\t\"-O3 -ffast-math -fno-math-errno -funsafe-math-optimizations\",  \n",
    "\t\"-O3 -march=native -funroll-loops -ffast-math\",          \n",
    "\t\"-O3 -march=native -fomit-frame-pointer -flto\",          \n",
    "\t\"-O3 -fwhole-program -flto -march=native\",               \n",
    "\t\"-O3 -funroll-loops -funsafe-math-optimizations -flto\",  \n",
    "\t\"-O3 -funroll-loops -fno-math-errno -march=native\",\n",
    "\t\"-O3 -fwhole-program -funroll-loops -march=native -ffast-math\", \n",
    "\n",
    "\t# GPT thought these would be good\n",
    "\t\"-O3 -march=native -mtune=native -funsafe-math-optimizations\", # Native CPU with unsafe math optimizations\n",
    "\t\"-O3 -flto -fomit-frame-pointer -fno-math-errno\",              # LTO, no frame pointer, math optimizations\n",
    "\t\"-O3 -funroll-loops -march=native -fwhole-program -flto\",      # Unrolling, whole program, and LTO\n",
    "\t\"-O3 -mtune=native -funroll-loops -funsafe-math-optimizations\",# CPU-tuned loop unrolling and unsafe math\n",
    "\t\"-O3 -funroll-loops -fprefetch-loop-arrays -flto\",             # Loop unrolling, prefetching, and LTO\n",
    "\t\"-O3 -ffast-math -funroll-loops -fomit-frame-pointer -flto\",   # Fast math, unrolling, omit frame, and LTO\n",
    "\t\"-O3 -march=native -fwhole-program -funsafe-math-optimizations\",# Whole program with unsafe math and native tuning\n",
    "\t\"-O3 -march=native -funroll-loops -funsafe-math-optimizations -ffast-math\", # Native loop unrolling with aggressive math\n",
    "\t\"-O3 -fwhole-program -flto -fomit-frame-pointer -funsafe-math-optimizations\",# Whole program, LTO, omit frame, unsafe math\n",
    "\t\"-O3 -mtune=native -funroll-loops -fwhole-program -flto\",      # CPU-tuned loop unrolling, whole program, and LTO\n",
    "\t\"-O3 -fno-math-errno -funsafe-math-optimizations -march=native -funroll-loops\", # Math optimizations with native tuning and loop unrolling\n",
    "\t\"-O3 -march=native -mtune=native -flto -fwhole-program\",       # Native tuning, LTO, and whole program\n",
    "\t\"-O3 -funsafe-math-optimizations -fomit-frame-pointer -funroll-loops -flto\", # Unsafe math, omit frame, unrolling, and LTO\n",
    "\t\"-O3 -ffast-math -funroll-loops -fwhole-program -march=native\", # Fast math, unrolling, whole program, native tuning\n",
    "\t\"-O3 -fprefetch-loop-arrays -funroll-loops -flto\",             # Loop prefetching, unrolling, and LTO\n",
    "\t\"-O3 -funroll-loops -march=native -mtune=native -fno-math-errno -ffast-math\", # Native tuning, loop unrolling, and math optimizations\n",
    "\t\"-O3 -funroll-loops -fprefetch-loop-arrays -march=native -ffast-math\", # Prefetch, loop unroll, native tuning, fast math\n",
    "\t\"-O3 -flto -fwhole-program -march=native -funroll-loops\",      # LTO, whole program, native tuning, loop unrolling\n",
    "\t\"-O3 -ffast-math -fno-math-errno -fomit-frame-pointer -flto\",  # Fast math, omit frame, and LTO\n",
    "\t\"-O3 -march=native -fomit-frame-pointer -fwhole-program -flto\",# Native tuning, omit frame, whole program, LTO\n",
    "\t\"-O3 -funroll-loops -fprefetch-loop-arrays -march=native -flto\", # Loop prefetching, unroll, native tuning, LTO\n",
    "\t\"-O3 -march=native -mtune=native -funroll-loops -fprefetch-loop-arrays -flto -ffast-math -fno-math-errno -funsafe-math-optimizations -fomit-frame-pointer -fwhole-program -fmerge-all-constants -fipa-pta -falign-functions=32 -falign-loops=32\"\n",
    "\n",
    "\t# Claude thought these could be good\n",
    "\t# Vectorization-focused optimizations\n",
    "\t\"-O3 -ftree-vectorize -fopt-info-vec\"  # Explicit vectorization with feedback\n",
    "\t\"-O3 -ftree-vectorize -fopt-info-vec-missed\" # Help identify vectorization opportunities\n",
    "\t# Memory and cache optimizations\n",
    "\t\"-O3 -fmodulo-sched -fmodulo-sched-allow-regmoves\" # Software pipelining\n",
    "\t\"-O3 -fpeel-loops -funswitch-loops\"  # Additional loop transformations\n",
    "\t\"-O3 -ftracer\" # Tail duplication to avoid branching\n",
    "\t# Aggressive optimizations\n",
    "\t\"-O3 -fgcse-after-reload\" # Additional global CSE after reload\n",
    "\t\"-O3 -fipa-pta -fdevirtualize-at-ltrans\" # More aggressive devirtualization\n",
    "\t\"-O3 -fgraphite-identity -floop-nest-optimize\" # Polyhedral optimizations\n",
    "\t# Combined aggressive optimizations\n",
    "\t\"-O3 -march=native -ftracer -fmodulo-sched -funswitch-loops -flto\"\n",
    "\t\"-O3 -march=native -ftree-vectorize -fmodulo-sched -ffast-math -flto\"\n",
    "\t\"-O3 -fgraphite-identity -floop-nest-optimize -march=native -ffast-math -flto\"\n",
    "]\n",
    "len(flags) * 17 * 4\n"
   ]
  }
 ],
 "metadata": {
  "kernelspec": {
   "display_name": ".venv",
   "language": "python",
   "name": "python3"
  },
  "language_info": {
   "codemirror_mode": {
    "name": "ipython",
    "version": 3
   },
   "file_extension": ".py",
   "mimetype": "text/x-python",
   "name": "python",
   "nbconvert_exporter": "python",
   "pygments_lexer": "ipython3",
   "version": "3.12.2"
  }
 },
 "nbformat": 4,
 "nbformat_minor": 2
}
