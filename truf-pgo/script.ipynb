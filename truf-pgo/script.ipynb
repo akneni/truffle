{
 "cells": [
  {
   "cell_type": "code",
   "execution_count": 5,
   "metadata": {},
   "outputs": [],
   "source": [
    "import hashlib\n",
    "import os\n",
    "import subprocess\n",
    "from dataclasses import dataclass\n",
    "import shelve\n",
    "import platform\n",
    "from datetime import datetime\n",
    "import random"
   ]
  },
  {
   "cell_type": "code",
   "execution_count": null,
   "metadata": {},
   "outputs": [],
   "source": [
    "@dataclass\n",
    "class SystemSpec:\n",
    "    os: str\n",
    "    cpu: str\n",
    "    os_version: str = None\n",
    "    cpu_arch: str = None\n",
    "    cpu_physical_cores: int = None\n",
    "    cpu_logical_cores: int = None\n",
    "    mem_size_gb: float = None\n",
    "    mem_speed_mhz: int = None\n",
    "    l1_i_size: str = None\n",
    "    l1_d_size: str = None\n",
    "    l2_size: str = None\n",
    "    l3_size: str = None\n",
    "\n",
    "    @staticmethod\n",
    "    def generate():\n",
    "        spec = SystemSpec(\n",
    "            os=platform.system(),\n",
    "            os_version=platform.platform(),\n",
    "            cpu_arch=platform.machine(),\n",
    "            **SystemSpec.cpu_specs(),\n",
    "            **SystemSpec.mem_specs(),\n",
    "        )\n",
    "        return spec\n",
    "\n",
    "    @staticmethod\n",
    "    def cpu_specs():\n",
    "        specs = {}\n",
    "        try:\n",
    "            result = subprocess.run([\"lscpu\"], stdout=subprocess.PIPE)\n",
    "            # Extract speed from the output\n",
    "            for line in result.stdout.decode('utf-8').split('\\n'):\n",
    "                try:\n",
    "                    line = line.strip()\n",
    "                    parser_rules = [\n",
    "                        # [starts_with, specs key, type],\n",
    "                        ['CPU(s):', 'cpu_logical_cores', int],\n",
    "                        ['Model name:', 'cpu', str],\n",
    "                        ['Core(s) per socket:', 'cpu_physical_cores', int],\n",
    "                        ['L1d', 'l1_i_size', str],\n",
    "                        ['L1i', 'l1_d_size', str],\n",
    "                        ['L2', 'l2_size', str],\n",
    "                        ['L3', 'l3_size', str],\n",
    "                    ]\n",
    "\n",
    "                    for start, key, type_f, in parser_rules:\n",
    "                        if line.startswith(start):\n",
    "                            line = line.partition(':')[2].strip()\n",
    "                            line = type_f(line)\n",
    "                            specs[key] = line\n",
    "                            break\n",
    "                except Exception:\n",
    "                    pass\n",
    "            \n",
    "        except Exception:\n",
    "            pass\n",
    "\n",
    "        return specs\n",
    "    \n",
    "    @staticmethod\n",
    "    def mem_specs():\n",
    "        specs = {}\n",
    "        try:\n",
    "            result = subprocess.run([\"cat\", \"/proc/meminfo\"], stdout=subprocess.PIPE)\n",
    "            # Extract speed from the output\n",
    "            for line in result.stdout.decode('utf-8').split('\\n'):\n",
    "                line = line.strip()\n",
    "                if line.startswith('MemTotal:'):\n",
    "                    line = line.partition(':')[2].strip()\n",
    "                    mem_size, _, units = line.partition(' ')\n",
    "                    mem_size = float(mem_size)\n",
    "\n",
    "                    if units.lower() == 'kb':\n",
    "                        mem_size /= 1_000_000\n",
    "                    elif units.lower() == 'mb':\n",
    "                        mem_size /= 1_000\n",
    "                    specs['mem_size_gb'] = mem_size\n",
    "                    break\n",
    "        except Exception:\n",
    "            pass\n",
    "\n",
    "        return specs\n",
    "\n",
    "\n",
    "@dataclass\n",
    "class ExecutionTrial:\n",
    "    c_filename: str\n",
    "    c_source: str\n",
    "    flags: list[str]\n",
    "    output: str\n",
    "    system_specs: SystemSpec\n",
    "    created_at: datetime\n",
    "\n",
    "    def gen_uid(self) -> str:\n",
    "        uid = self.c_filename + \"\".join(self.flags)\n",
    "        uid = hashlib.sha256(uid.encode('utf-8')).hexdigest()\n",
    "        rand = hashlib.sha256(random.randbytes(128)).hexdigest()\n",
    "        return f\"{uid}-{rand}\"\n",
    "    \n",
    "    def time_elapsed(self) -> float:\n",
    "        output = self.output.strip()\n",
    "        time_elapsed = output.split('\\n')[-1]\n",
    "        return float(time_elapsed.partition(':')[2].strip())\n"
   ]
  },
  {
   "cell_type": "code",
   "execution_count": 6,
   "metadata": {},
   "outputs": [
    {
     "ename": "error",
     "evalue": "db type could not be determined",
     "output_type": "error",
     "traceback": [
      "\u001b[0;31m---------------------------------------------------------------------------\u001b[0m",
      "\u001b[0;31merror\u001b[0m                                     Traceback (most recent call last)",
      "Cell \u001b[0;32mIn[6], line 1\u001b[0m\n\u001b[0;32m----> 1\u001b[0m \u001b[38;5;28;01mwith\u001b[39;00m \u001b[43mshelve\u001b[49m\u001b[38;5;241;43m.\u001b[39;49m\u001b[43mopen\u001b[49m\u001b[43m(\u001b[49m\u001b[38;5;124;43m'\u001b[39;49m\u001b[38;5;124;43m./docker-volume/benchmark.shelve\u001b[39;49m\u001b[38;5;124;43m'\u001b[39;49m\u001b[43m)\u001b[49m \u001b[38;5;28;01mas\u001b[39;00m db:\n\u001b[1;32m      2\u001b[0m     data \u001b[38;5;241m=\u001b[39m \u001b[38;5;28mdict\u001b[39m(db)\n\u001b[1;32m      3\u001b[0m \u001b[38;5;28mlen\u001b[39m(data)\n",
      "File \u001b[0;32m~/miniconda3/lib/python3.12/shelve.py:243\u001b[0m, in \u001b[0;36mopen\u001b[0;34m(filename, flag, protocol, writeback)\u001b[0m\n\u001b[1;32m    230\u001b[0m \u001b[38;5;28;01mdef\u001b[39;00m \u001b[38;5;21mopen\u001b[39m(filename, flag\u001b[38;5;241m=\u001b[39m\u001b[38;5;124m'\u001b[39m\u001b[38;5;124mc\u001b[39m\u001b[38;5;124m'\u001b[39m, protocol\u001b[38;5;241m=\u001b[39m\u001b[38;5;28;01mNone\u001b[39;00m, writeback\u001b[38;5;241m=\u001b[39m\u001b[38;5;28;01mFalse\u001b[39;00m):\n\u001b[1;32m    231\u001b[0m \u001b[38;5;250m    \u001b[39m\u001b[38;5;124;03m\"\"\"Open a persistent dictionary for reading and writing.\u001b[39;00m\n\u001b[1;32m    232\u001b[0m \n\u001b[1;32m    233\u001b[0m \u001b[38;5;124;03m    The filename parameter is the base filename for the underlying\u001b[39;00m\n\u001b[0;32m   (...)\u001b[0m\n\u001b[1;32m    240\u001b[0m \u001b[38;5;124;03m    See the module's __doc__ string for an overview of the interface.\u001b[39;00m\n\u001b[1;32m    241\u001b[0m \u001b[38;5;124;03m    \"\"\"\u001b[39;00m\n\u001b[0;32m--> 243\u001b[0m     \u001b[38;5;28;01mreturn\u001b[39;00m \u001b[43mDbfilenameShelf\u001b[49m\u001b[43m(\u001b[49m\u001b[43mfilename\u001b[49m\u001b[43m,\u001b[49m\u001b[43m \u001b[49m\u001b[43mflag\u001b[49m\u001b[43m,\u001b[49m\u001b[43m \u001b[49m\u001b[43mprotocol\u001b[49m\u001b[43m,\u001b[49m\u001b[43m \u001b[49m\u001b[43mwriteback\u001b[49m\u001b[43m)\u001b[49m\n",
      "File \u001b[0;32m~/miniconda3/lib/python3.12/shelve.py:227\u001b[0m, in \u001b[0;36mDbfilenameShelf.__init__\u001b[0;34m(self, filename, flag, protocol, writeback)\u001b[0m\n\u001b[1;32m    225\u001b[0m \u001b[38;5;28;01mdef\u001b[39;00m \u001b[38;5;21m__init__\u001b[39m(\u001b[38;5;28mself\u001b[39m, filename, flag\u001b[38;5;241m=\u001b[39m\u001b[38;5;124m'\u001b[39m\u001b[38;5;124mc\u001b[39m\u001b[38;5;124m'\u001b[39m, protocol\u001b[38;5;241m=\u001b[39m\u001b[38;5;28;01mNone\u001b[39;00m, writeback\u001b[38;5;241m=\u001b[39m\u001b[38;5;28;01mFalse\u001b[39;00m):\n\u001b[1;32m    226\u001b[0m     \u001b[38;5;28;01mimport\u001b[39;00m \u001b[38;5;21;01mdbm\u001b[39;00m\n\u001b[0;32m--> 227\u001b[0m     Shelf\u001b[38;5;241m.\u001b[39m\u001b[38;5;21m__init__\u001b[39m(\u001b[38;5;28mself\u001b[39m, \u001b[43mdbm\u001b[49m\u001b[38;5;241;43m.\u001b[39;49m\u001b[43mopen\u001b[49m\u001b[43m(\u001b[49m\u001b[43mfilename\u001b[49m\u001b[43m,\u001b[49m\u001b[43m \u001b[49m\u001b[43mflag\u001b[49m\u001b[43m)\u001b[49m, protocol, writeback)\n",
      "File \u001b[0;32m~/miniconda3/lib/python3.12/dbm/__init__.py:89\u001b[0m, in \u001b[0;36mopen\u001b[0;34m(file, flag, mode)\u001b[0m\n\u001b[1;32m     85\u001b[0m         \u001b[38;5;28;01mraise\u001b[39;00m error[\u001b[38;5;241m0\u001b[39m](\u001b[38;5;124m\"\u001b[39m\u001b[38;5;124mdb file doesn\u001b[39m\u001b[38;5;124m'\u001b[39m\u001b[38;5;124mt exist; \u001b[39m\u001b[38;5;124m\"\u001b[39m\n\u001b[1;32m     86\u001b[0m                        \u001b[38;5;124m\"\u001b[39m\u001b[38;5;124muse \u001b[39m\u001b[38;5;124m'\u001b[39m\u001b[38;5;124mc\u001b[39m\u001b[38;5;124m'\u001b[39m\u001b[38;5;124m or \u001b[39m\u001b[38;5;124m'\u001b[39m\u001b[38;5;124mn\u001b[39m\u001b[38;5;124m'\u001b[39m\u001b[38;5;124m flag to create a new db\u001b[39m\u001b[38;5;124m\"\u001b[39m)\n\u001b[1;32m     87\u001b[0m \u001b[38;5;28;01melif\u001b[39;00m result \u001b[38;5;241m==\u001b[39m \u001b[38;5;124m\"\u001b[39m\u001b[38;5;124m\"\u001b[39m:\n\u001b[1;32m     88\u001b[0m     \u001b[38;5;66;03m# db type cannot be determined\u001b[39;00m\n\u001b[0;32m---> 89\u001b[0m     \u001b[38;5;28;01mraise\u001b[39;00m error[\u001b[38;5;241m0\u001b[39m](\u001b[38;5;124m\"\u001b[39m\u001b[38;5;124mdb type could not be determined\u001b[39m\u001b[38;5;124m\"\u001b[39m)\n\u001b[1;32m     90\u001b[0m \u001b[38;5;28;01melif\u001b[39;00m result \u001b[38;5;129;01mnot\u001b[39;00m \u001b[38;5;129;01min\u001b[39;00m _modules:\n\u001b[1;32m     91\u001b[0m     \u001b[38;5;28;01mraise\u001b[39;00m error[\u001b[38;5;241m0\u001b[39m](\u001b[38;5;124m\"\u001b[39m\u001b[38;5;124mdb type is \u001b[39m\u001b[38;5;132;01m{0}\u001b[39;00m\u001b[38;5;124m, but the module is not \u001b[39m\u001b[38;5;124m\"\u001b[39m\n\u001b[1;32m     92\u001b[0m                    \u001b[38;5;124m\"\u001b[39m\u001b[38;5;124mavailable\u001b[39m\u001b[38;5;124m\"\u001b[39m\u001b[38;5;241m.\u001b[39mformat(result))\n",
      "\u001b[0;31merror\u001b[0m: db type could not be determined"
     ]
    }
   ],
   "source": [
    "with shelve.open('./docker-volume/benchmark.shelve') as db:\n",
    "    data = dict(db)\n",
    "len(data)"
   ]
  },
  {
   "cell_type": "code",
   "execution_count": 30,
   "metadata": {},
   "outputs": [
    {
     "ename": "IndexError",
     "evalue": "list index out of range",
     "output_type": "error",
     "traceback": [
      "\u001b[0;31m---------------------------------------------------------------------------\u001b[0m",
      "\u001b[0;31mIndexError\u001b[0m                                Traceback (most recent call last)",
      "Cell \u001b[0;32mIn[30], line 2\u001b[0m\n\u001b[1;32m      1\u001b[0m idx \u001b[38;5;241m=\u001b[39m \u001b[38;5;241m9\u001b[39m\n\u001b[0;32m----> 2\u001b[0m ptr: ExecutionTrial \u001b[38;5;241m=\u001b[39m \u001b[38;5;28;43mlist\u001b[39;49m\u001b[43m(\u001b[49m\u001b[43mdata\u001b[49m\u001b[38;5;241;43m.\u001b[39;49m\u001b[43mvalues\u001b[49m\u001b[43m(\u001b[49m\u001b[43m)\u001b[49m\u001b[43m)\u001b[49m\u001b[43m[\u001b[49m\u001b[43midx\u001b[49m\u001b[43m]\u001b[49m\n\u001b[1;32m      3\u001b[0m \u001b[38;5;28mprint\u001b[39m(ptr\u001b[38;5;241m.\u001b[39mc_filename)\n\u001b[1;32m      4\u001b[0m \u001b[38;5;28mprint\u001b[39m(ptr\u001b[38;5;241m.\u001b[39mflags)\n",
      "\u001b[0;31mIndexError\u001b[0m: list index out of range"
     ]
    }
   ],
   "source": [
    "idx = 9\n",
    "ptr: ExecutionTrial = list(data.values())[idx]\n",
    "print(ptr.c_filename)\n",
    "print(ptr.flags)\n",
    "print(ptr.time_elapsed())"
   ]
  }
 ],
 "metadata": {
  "kernelspec": {
   "display_name": "base",
   "language": "python",
   "name": "python3"
  },
  "language_info": {
   "codemirror_mode": {
    "name": "ipython",
    "version": 3
   },
   "file_extension": ".py",
   "mimetype": "text/x-python",
   "name": "python",
   "nbconvert_exporter": "python",
   "pygments_lexer": "ipython3",
   "version": "3.12.2"
  }
 },
 "nbformat": 4,
 "nbformat_minor": 2
}
