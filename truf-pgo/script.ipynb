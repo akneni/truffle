{
 "cells": [
  {
   "cell_type": "code",
   "execution_count": 1,
   "metadata": {},
   "outputs": [],
   "source": [
    "from dataclasses import dataclass\n",
    "import shelve\n",
    "from datetime import datetime\n",
    "import random\n",
    "from scripts import utils\n",
    "from pprint import pprint\n",
    "import hashlib\n",
    "import os\n",
    "import numpy as np\n",
    "import matplotlib.pyplot as plt\n",
    "import polars as pl\n",
    "import transformers\n",
    "import torch\n",
    "from transformers import AutoTokenizer, AutoModelForCausalLM\n",
    "from transformers import DistilBertModel, BertModel\n",
    "from transformers import LEDForConditionalGeneration, LEDTokenizer\n",
    "import dist\n",
    "import importlib\n",
    "\n",
    "\n",
    "importlib.reload(dist)\n",
    "plt.style.use('dark_background')"
   ]
  },
  {
   "cell_type": "code",
   "execution_count": 2,
   "metadata": {},
   "outputs": [],
   "source": [
    "DF_PATH = './benchmarking-dataset/runtime-data.parquet'\n",
    "DEVICE = 'cuda'"
   ]
  },
  {
   "cell_type": "markdown",
   "metadata": {},
   "source": [
    "## Data Visualization"
   ]
  },
  {
   "cell_type": "code",
   "execution_count": 3,
   "metadata": {},
   "outputs": [
    {
     "data": {
      "text/html": [
       "<div><style>\n",
       ".dataframe > thead > tr,\n",
       ".dataframe > tbody > tr {\n",
       "  text-align: right;\n",
       "  white-space: pre-wrap;\n",
       "}\n",
       "</style>\n",
       "<small>shape: (799, 20)</small><table border=\"1\" class=\"dataframe\"><thead><tr><th>c_filename</th><th>flags</th><th>runtime</th><th>created_at</th><th>trials</th><th>sys_specs_hash</th><th>sys_specs_os</th><th>sys_specs_cpu</th><th>sys_specs_compiler</th><th>sys_specs_os_version</th><th>sys_specs_cpu_arch</th><th>sys_specs_cpu_physical_cores</th><th>sys_specs_cpu_logical_cores</th><th>sys_specs_mem_size_gb</th><th>sys_specs_mem_speed_mhz</th><th>sys_specs_l1_i_size</th><th>sys_specs_l1_d_size</th><th>sys_specs_l2_size</th><th>sys_specs_l3_size</th><th>id</th></tr><tr><td>str</td><td>str</td><td>f64</td><td>datetime[μs]</td><td>i64</td><td>str</td><td>str</td><td>str</td><td>str</td><td>str</td><td>str</td><td>i64</td><td>i64</td><td>f64</td><td>null</td><td>str</td><td>str</td><td>str</td><td>str</td><td>str</td></tr></thead><tbody><tr><td>&quot;eigenvalue-33c06ce6.c&quot;</td><td>&quot;-O3 -march=native -mtune=nativ…</td><td>0.304516</td><td>2024-11-03 22:30:10.171520</td><td>4</td><td>&quot;04c116405dd7c5743463fa90b64467…</td><td>&quot;Linux&quot;</td><td>&quot;AMD Ryzen 9 3950X 16-Core Proc…</td><td>&quot;gcc (Ubuntu 11.4.0-1ubuntu1~22…</td><td>&quot;Linux-6.9.3-76060903-generic-x…</td><td>&quot;x86_64&quot;</td><td>16</td><td>32</td><td>32.780768</td><td>null</td><td>&quot;512 KiB (16 instances)&quot;</td><td>&quot;512 KiB (16 instances)&quot;</td><td>&quot;8 MiB (16 instances)&quot;</td><td>&quot;64 MiB (4 instances)&quot;</td><td>&quot;948bddda92e7f5e374c0cfa1049165…</td></tr><tr><td>&quot;eigenvalue-33c06ce6.c&quot;</td><td>&quot;-O3 -funroll-loops -fprefetch-…</td><td>0.304858</td><td>2024-11-03 22:29:59.796546</td><td>4</td><td>&quot;04c116405dd7c5743463fa90b64467…</td><td>&quot;Linux&quot;</td><td>&quot;AMD Ryzen 9 3950X 16-Core Proc…</td><td>&quot;gcc (Ubuntu 11.4.0-1ubuntu1~22…</td><td>&quot;Linux-6.9.3-76060903-generic-x…</td><td>&quot;x86_64&quot;</td><td>16</td><td>32</td><td>32.780768</td><td>null</td><td>&quot;512 KiB (16 instances)&quot;</td><td>&quot;512 KiB (16 instances)&quot;</td><td>&quot;8 MiB (16 instances)&quot;</td><td>&quot;64 MiB (4 instances)&quot;</td><td>&quot;fa886d31e2da16d92dea8e4bed3c39…</td></tr><tr><td>&quot;eigenvalue-33c06ce6.c&quot;</td><td>&quot;-O3 -funroll-loops -march=nati…</td><td>0.41399</td><td>2024-11-03 22:29:59.449327</td><td>4</td><td>&quot;04c116405dd7c5743463fa90b64467…</td><td>&quot;Linux&quot;</td><td>&quot;AMD Ryzen 9 3950X 16-Core Proc…</td><td>&quot;gcc (Ubuntu 11.4.0-1ubuntu1~22…</td><td>&quot;Linux-6.9.3-76060903-generic-x…</td><td>&quot;x86_64&quot;</td><td>16</td><td>32</td><td>32.780768</td><td>null</td><td>&quot;512 KiB (16 instances)&quot;</td><td>&quot;512 KiB (16 instances)&quot;</td><td>&quot;8 MiB (16 instances)&quot;</td><td>&quot;64 MiB (4 instances)&quot;</td><td>&quot;9bef08bfb4fff715a387f79d80c043…</td></tr><tr><td>&quot;eigenvalue-33c06ce6.c&quot;</td><td>&quot;-O3 -march=native -funroll-loo…</td><td>0.414015</td><td>2024-11-03 22:29:50.755481</td><td>4</td><td>&quot;04c116405dd7c5743463fa90b64467…</td><td>&quot;Linux&quot;</td><td>&quot;AMD Ryzen 9 3950X 16-Core Proc…</td><td>&quot;gcc (Ubuntu 11.4.0-1ubuntu1~22…</td><td>&quot;Linux-6.9.3-76060903-generic-x…</td><td>&quot;x86_64&quot;</td><td>16</td><td>32</td><td>32.780768</td><td>null</td><td>&quot;512 KiB (16 instances)&quot;</td><td>&quot;512 KiB (16 instances)&quot;</td><td>&quot;8 MiB (16 instances)&quot;</td><td>&quot;64 MiB (4 instances)&quot;</td><td>&quot;52a4971819d05b87a67712f029741b…</td></tr><tr><td>&quot;eigenvalue-33c06ce6.c&quot;</td><td>&quot;-O3 -ffast-math -funroll-loops…</td><td>0.41501</td><td>2024-11-03 22:29:57.171162</td><td>4</td><td>&quot;04c116405dd7c5743463fa90b64467…</td><td>&quot;Linux&quot;</td><td>&quot;AMD Ryzen 9 3950X 16-Core Proc…</td><td>&quot;gcc (Ubuntu 11.4.0-1ubuntu1~22…</td><td>&quot;Linux-6.9.3-76060903-generic-x…</td><td>&quot;x86_64&quot;</td><td>16</td><td>32</td><td>32.780768</td><td>null</td><td>&quot;512 KiB (16 instances)&quot;</td><td>&quot;512 KiB (16 instances)&quot;</td><td>&quot;8 MiB (16 instances)&quot;</td><td>&quot;64 MiB (4 instances)&quot;</td><td>&quot;2fd2e51049c878750c7cb46ef0de9c…</td></tr><tr><td>&hellip;</td><td>&hellip;</td><td>&hellip;</td><td>&hellip;</td><td>&hellip;</td><td>&hellip;</td><td>&hellip;</td><td>&hellip;</td><td>&hellip;</td><td>&hellip;</td><td>&hellip;</td><td>&hellip;</td><td>&hellip;</td><td>&hellip;</td><td>&hellip;</td><td>&hellip;</td><td>&hellip;</td><td>&hellip;</td><td>&hellip;</td><td>&hellip;</td></tr><tr><td>&quot;cond-branching-87209a89.c&quot;</td><td>&quot;-O3 -flto -fwhole-program -mar…</td><td>4.4576</td><td>2024-11-03 21:43:32.089278</td><td>4</td><td>&quot;04c116405dd7c5743463fa90b64467…</td><td>&quot;Linux&quot;</td><td>&quot;AMD Ryzen 9 3950X 16-Core Proc…</td><td>&quot;gcc (Ubuntu 11.4.0-1ubuntu1~22…</td><td>&quot;Linux-6.9.3-76060903-generic-x…</td><td>&quot;x86_64&quot;</td><td>16</td><td>32</td><td>32.780768</td><td>null</td><td>&quot;512 KiB (16 instances)&quot;</td><td>&quot;512 KiB (16 instances)&quot;</td><td>&quot;8 MiB (16 instances)&quot;</td><td>&quot;64 MiB (4 instances)&quot;</td><td>&quot;c4b3cb18925e849d4cc904262ff496…</td></tr><tr><td>&quot;cond-branching-87209a89.c&quot;</td><td>&quot;-O3 -mtune=native -funroll-loo…</td><td>4.467</td><td>2024-11-03 21:42:57.122584</td><td>4</td><td>&quot;04c116405dd7c5743463fa90b64467…</td><td>&quot;Linux&quot;</td><td>&quot;AMD Ryzen 9 3950X 16-Core Proc…</td><td>&quot;gcc (Ubuntu 11.4.0-1ubuntu1~22…</td><td>&quot;Linux-6.9.3-76060903-generic-x…</td><td>&quot;x86_64&quot;</td><td>16</td><td>32</td><td>32.780768</td><td>null</td><td>&quot;512 KiB (16 instances)&quot;</td><td>&quot;512 KiB (16 instances)&quot;</td><td>&quot;8 MiB (16 instances)&quot;</td><td>&quot;64 MiB (4 instances)&quot;</td><td>&quot;947b96015fe6d7ad79eb5ad66391e7…</td></tr><tr><td>&quot;cond-branching-87209a89.c&quot;</td><td>&quot;-O3 -funroll-loops -flto&quot;</td><td>4.469425</td><td>2024-11-03 21:41:33.502398</td><td>4</td><td>&quot;04c116405dd7c5743463fa90b64467…</td><td>&quot;Linux&quot;</td><td>&quot;AMD Ryzen 9 3950X 16-Core Proc…</td><td>&quot;gcc (Ubuntu 11.4.0-1ubuntu1~22…</td><td>&quot;Linux-6.9.3-76060903-generic-x…</td><td>&quot;x86_64&quot;</td><td>16</td><td>32</td><td>32.780768</td><td>null</td><td>&quot;512 KiB (16 instances)&quot;</td><td>&quot;512 KiB (16 instances)&quot;</td><td>&quot;8 MiB (16 instances)&quot;</td><td>&quot;64 MiB (4 instances)&quot;</td><td>&quot;28b31a0705d2555865059d86cb0425…</td></tr><tr><td>&quot;cond-branching-87209a89.c&quot;</td><td>&quot;-O3 -funroll-loops&quot;</td><td>4.470075</td><td>2024-11-03 21:40:40.119228</td><td>4</td><td>&quot;04c116405dd7c5743463fa90b64467…</td><td>&quot;Linux&quot;</td><td>&quot;AMD Ryzen 9 3950X 16-Core Proc…</td><td>&quot;gcc (Ubuntu 11.4.0-1ubuntu1~22…</td><td>&quot;Linux-6.9.3-76060903-generic-x…</td><td>&quot;x86_64&quot;</td><td>16</td><td>32</td><td>32.780768</td><td>null</td><td>&quot;512 KiB (16 instances)&quot;</td><td>&quot;512 KiB (16 instances)&quot;</td><td>&quot;8 MiB (16 instances)&quot;</td><td>&quot;64 MiB (4 instances)&quot;</td><td>&quot;65670b6218e74f9dc73b9d73390090…</td></tr><tr><td>&quot;cond-branching-87209a89.c&quot;</td><td>&quot;-O3 -funroll-loops -fomit-fram…</td><td>4.4709</td><td>2024-11-03 21:41:42.476117</td><td>4</td><td>&quot;04c116405dd7c5743463fa90b64467…</td><td>&quot;Linux&quot;</td><td>&quot;AMD Ryzen 9 3950X 16-Core Proc…</td><td>&quot;gcc (Ubuntu 11.4.0-1ubuntu1~22…</td><td>&quot;Linux-6.9.3-76060903-generic-x…</td><td>&quot;x86_64&quot;</td><td>16</td><td>32</td><td>32.780768</td><td>null</td><td>&quot;512 KiB (16 instances)&quot;</td><td>&quot;512 KiB (16 instances)&quot;</td><td>&quot;8 MiB (16 instances)&quot;</td><td>&quot;64 MiB (4 instances)&quot;</td><td>&quot;00fd12399643261da722e4cb3adc18…</td></tr></tbody></table></div>"
      ],
      "text/plain": [
       "shape: (799, 20)\n",
       "┌───────────┬───────────┬──────────┬───────────┬───┬───────────┬───────────┬───────────┬───────────┐\n",
       "│ c_filenam ┆ flags     ┆ runtime  ┆ created_a ┆ … ┆ sys_specs ┆ sys_specs ┆ sys_specs ┆ id        │\n",
       "│ e         ┆ ---       ┆ ---      ┆ t         ┆   ┆ _l1_d_siz ┆ _l2_size  ┆ _l3_size  ┆ ---       │\n",
       "│ ---       ┆ str       ┆ f64      ┆ ---       ┆   ┆ e         ┆ ---       ┆ ---       ┆ str       │\n",
       "│ str       ┆           ┆          ┆ datetime[ ┆   ┆ ---       ┆ str       ┆ str       ┆           │\n",
       "│           ┆           ┆          ┆ μs]       ┆   ┆ str       ┆           ┆           ┆           │\n",
       "╞═══════════╪═══════════╪══════════╪═══════════╪═══╪═══════════╪═══════════╪═══════════╪═══════════╡\n",
       "│ eigenvalu ┆ -O3 -marc ┆ 0.304516 ┆ 2024-11-0 ┆ … ┆ 512 KiB   ┆ 8 MiB (16 ┆ 64 MiB (4 ┆ 948bddda9 │\n",
       "│ e-33c06ce ┆ h=native  ┆          ┆ 3 22:30:1 ┆   ┆ (16 insta ┆ instances ┆ instances ┆ 2e7f5e374 │\n",
       "│ 6.c       ┆ -mtune=na ┆          ┆ 0.171520  ┆   ┆ nces)     ┆ )         ┆ )         ┆ c0cfa1049 │\n",
       "│           ┆ tiv…      ┆          ┆           ┆   ┆           ┆           ┆           ┆ 165…      │\n",
       "│ eigenvalu ┆ -O3 -funr ┆ 0.304858 ┆ 2024-11-0 ┆ … ┆ 512 KiB   ┆ 8 MiB (16 ┆ 64 MiB (4 ┆ fa886d31e │\n",
       "│ e-33c06ce ┆ oll-loops ┆          ┆ 3 22:29:5 ┆   ┆ (16 insta ┆ instances ┆ instances ┆ 2da16d92d │\n",
       "│ 6.c       ┆ -fprefetc ┆          ┆ 9.796546  ┆   ┆ nces)     ┆ )         ┆ )         ┆ ea8e4bed3 │\n",
       "│           ┆ h-…       ┆          ┆           ┆   ┆           ┆           ┆           ┆ c39…      │\n",
       "│ eigenvalu ┆ -O3 -funr ┆ 0.41399  ┆ 2024-11-0 ┆ … ┆ 512 KiB   ┆ 8 MiB (16 ┆ 64 MiB (4 ┆ 9bef08bfb │\n",
       "│ e-33c06ce ┆ oll-loops ┆          ┆ 3 22:29:5 ┆   ┆ (16 insta ┆ instances ┆ instances ┆ 4fff715a3 │\n",
       "│ 6.c       ┆ -march=na ┆          ┆ 9.449327  ┆   ┆ nces)     ┆ )         ┆ )         ┆ 87f79d80c │\n",
       "│           ┆ ti…       ┆          ┆           ┆   ┆           ┆           ┆           ┆ 043…      │\n",
       "│ eigenvalu ┆ -O3 -marc ┆ 0.414015 ┆ 2024-11-0 ┆ … ┆ 512 KiB   ┆ 8 MiB (16 ┆ 64 MiB (4 ┆ 52a497181 │\n",
       "│ e-33c06ce ┆ h=native  ┆          ┆ 3 22:29:5 ┆   ┆ (16 insta ┆ instances ┆ instances ┆ 9d05b87a6 │\n",
       "│ 6.c       ┆ -funroll- ┆          ┆ 0.755481  ┆   ┆ nces)     ┆ )         ┆ )         ┆ 7712f0297 │\n",
       "│           ┆ loo…      ┆          ┆           ┆   ┆           ┆           ┆           ┆ 41b…      │\n",
       "│ eigenvalu ┆ -O3 -ffas ┆ 0.41501  ┆ 2024-11-0 ┆ … ┆ 512 KiB   ┆ 8 MiB (16 ┆ 64 MiB (4 ┆ 2fd2e5104 │\n",
       "│ e-33c06ce ┆ t-math    ┆          ┆ 3 22:29:5 ┆   ┆ (16 insta ┆ instances ┆ instances ┆ 9c878750c │\n",
       "│ 6.c       ┆ -funroll- ┆          ┆ 7.171162  ┆   ┆ nces)     ┆ )         ┆ )         ┆ 7cb46ef0d │\n",
       "│           ┆ loops…    ┆          ┆           ┆   ┆           ┆           ┆           ┆ e9c…      │\n",
       "│ …         ┆ …         ┆ …        ┆ …         ┆ … ┆ …         ┆ …         ┆ …         ┆ …         │\n",
       "│ cond-bran ┆ -O3 -flto ┆ 4.4576   ┆ 2024-11-0 ┆ … ┆ 512 KiB   ┆ 8 MiB (16 ┆ 64 MiB (4 ┆ c4b3cb189 │\n",
       "│ ching-872 ┆ -fwhole-p ┆          ┆ 3 21:43:3 ┆   ┆ (16 insta ┆ instances ┆ instances ┆ 25e849d4c │\n",
       "│ 09a89.c   ┆ rogram    ┆          ┆ 2.089278  ┆   ┆ nces)     ┆ )         ┆ )         ┆ c904262ff │\n",
       "│           ┆ -mar…     ┆          ┆           ┆   ┆           ┆           ┆           ┆ 496…      │\n",
       "│ cond-bran ┆ -O3 -mtun ┆ 4.467    ┆ 2024-11-0 ┆ … ┆ 512 KiB   ┆ 8 MiB (16 ┆ 64 MiB (4 ┆ 947b96015 │\n",
       "│ ching-872 ┆ e=native  ┆          ┆ 3 21:42:5 ┆   ┆ (16 insta ┆ instances ┆ instances ┆ fe6d7ad79 │\n",
       "│ 09a89.c   ┆ -funroll- ┆          ┆ 7.122584  ┆   ┆ nces)     ┆ )         ┆ )         ┆ eb5ad6639 │\n",
       "│           ┆ loo…      ┆          ┆           ┆   ┆           ┆           ┆           ┆ 1e7…      │\n",
       "│ cond-bran ┆ -O3 -funr ┆ 4.469425 ┆ 2024-11-0 ┆ … ┆ 512 KiB   ┆ 8 MiB (16 ┆ 64 MiB (4 ┆ 28b31a070 │\n",
       "│ ching-872 ┆ oll-loops ┆          ┆ 3 21:41:3 ┆   ┆ (16 insta ┆ instances ┆ instances ┆ 5d2555865 │\n",
       "│ 09a89.c   ┆ -flto     ┆          ┆ 3.502398  ┆   ┆ nces)     ┆ )         ┆ )         ┆ 059d86cb0 │\n",
       "│           ┆           ┆          ┆           ┆   ┆           ┆           ┆           ┆ 425…      │\n",
       "│ cond-bran ┆ -O3 -funr ┆ 4.470075 ┆ 2024-11-0 ┆ … ┆ 512 KiB   ┆ 8 MiB (16 ┆ 64 MiB (4 ┆ 65670b621 │\n",
       "│ ching-872 ┆ oll-loops ┆          ┆ 3 21:40:4 ┆   ┆ (16 insta ┆ instances ┆ instances ┆ 8e74f9dc7 │\n",
       "│ 09a89.c   ┆           ┆          ┆ 0.119228  ┆   ┆ nces)     ┆ )         ┆ )         ┆ 3b9d73390 │\n",
       "│           ┆           ┆          ┆           ┆   ┆           ┆           ┆           ┆ 090…      │\n",
       "│ cond-bran ┆ -O3 -funr ┆ 4.4709   ┆ 2024-11-0 ┆ … ┆ 512 KiB   ┆ 8 MiB (16 ┆ 64 MiB (4 ┆ 00fd12399 │\n",
       "│ ching-872 ┆ oll-loops ┆          ┆ 3 21:41:4 ┆   ┆ (16 insta ┆ instances ┆ instances ┆ 643261da7 │\n",
       "│ 09a89.c   ┆ -fomit-fr ┆          ┆ 2.476117  ┆   ┆ nces)     ┆ )         ┆ )         ┆ 22e4cb3ad │\n",
       "│           ┆ am…       ┆          ┆           ┆   ┆           ┆           ┆           ┆ c18…      │\n",
       "└───────────┴───────────┴──────────┴───────────┴───┴───────────┴───────────┴───────────┴───────────┘"
      ]
     },
     "execution_count": 3,
     "metadata": {},
     "output_type": "execute_result"
    }
   ],
   "source": [
    "df = pl.read_parquet(DF_PATH) \n",
    "df = df.sort(pl.col('runtime'))\n",
    "df"
   ]
  },
  {
   "cell_type": "code",
   "execution_count": 4,
   "metadata": {},
   "outputs": [
    {
     "data": {
      "text/html": [
       "<div><style>\n",
       ".dataframe > thead > tr,\n",
       ".dataframe > tbody > tr {\n",
       "  text-align: right;\n",
       "  white-space: pre-wrap;\n",
       "}\n",
       "</style>\n",
       "<small>shape: (17, 20)</small><table border=\"1\" class=\"dataframe\"><thead><tr><th>c_filename</th><th>flags</th><th>runtime</th><th>created_at</th><th>trials</th><th>sys_specs_hash</th><th>sys_specs_os</th><th>sys_specs_cpu</th><th>sys_specs_compiler</th><th>sys_specs_os_version</th><th>sys_specs_cpu_arch</th><th>sys_specs_cpu_physical_cores</th><th>sys_specs_cpu_logical_cores</th><th>sys_specs_mem_size_gb</th><th>sys_specs_mem_speed_mhz</th><th>sys_specs_l1_i_size</th><th>sys_specs_l1_d_size</th><th>sys_specs_l2_size</th><th>sys_specs_l3_size</th><th>id</th></tr><tr><td>str</td><td>str</td><td>f64</td><td>datetime[μs]</td><td>i64</td><td>str</td><td>str</td><td>str</td><td>str</td><td>str</td><td>str</td><td>i64</td><td>i64</td><td>f64</td><td>null</td><td>str</td><td>str</td><td>str</td><td>str</td><td>str</td></tr></thead><tbody><tr><td>&quot;b-tree-740a1306.c&quot;</td><td>&quot;-O3 -march=native&quot;</td><td>3.7287985</td><td>2024-11-03 21:16:19.616530</td><td>4</td><td>&quot;04c116405dd7c5743463fa90b64467…</td><td>&quot;Linux&quot;</td><td>&quot;AMD Ryzen 9 3950X 16-Core Proc…</td><td>&quot;gcc (Ubuntu 11.4.0-1ubuntu1~22…</td><td>&quot;Linux-6.9.3-76060903-generic-x…</td><td>&quot;x86_64&quot;</td><td>16</td><td>32</td><td>32.780768</td><td>null</td><td>&quot;512 KiB (16 instances)&quot;</td><td>&quot;512 KiB (16 instances)&quot;</td><td>&quot;8 MiB (16 instances)&quot;</td><td>&quot;64 MiB (4 instances)&quot;</td><td>&quot;a68bc1164e35fcf2eda87b76d589df…</td></tr><tr><td>&quot;cond-branching-87209a89.c&quot;</td><td>&quot;-O3 -funroll-loops -march=nati…</td><td>4.2437</td><td>2024-11-03 21:43:23.313757</td><td>4</td><td>&quot;04c116405dd7c5743463fa90b64467…</td><td>&quot;Linux&quot;</td><td>&quot;AMD Ryzen 9 3950X 16-Core Proc…</td><td>&quot;gcc (Ubuntu 11.4.0-1ubuntu1~22…</td><td>&quot;Linux-6.9.3-76060903-generic-x…</td><td>&quot;x86_64&quot;</td><td>16</td><td>32</td><td>32.780768</td><td>null</td><td>&quot;512 KiB (16 instances)&quot;</td><td>&quot;512 KiB (16 instances)&quot;</td><td>&quot;8 MiB (16 instances)&quot;</td><td>&quot;64 MiB (4 instances)&quot;</td><td>&quot;3bc1926cb52466e6bf61eda36a4d3d…</td></tr><tr><td>&quot;dijkstra-8d333a4f.c&quot;</td><td>&quot;-O3 -flto&quot;</td><td>1.2221225</td><td>2024-11-03 21:32:05.412505</td><td>4</td><td>&quot;04c116405dd7c5743463fa90b64467…</td><td>&quot;Linux&quot;</td><td>&quot;AMD Ryzen 9 3950X 16-Core Proc…</td><td>&quot;gcc (Ubuntu 11.4.0-1ubuntu1~22…</td><td>&quot;Linux-6.9.3-76060903-generic-x…</td><td>&quot;x86_64&quot;</td><td>16</td><td>32</td><td>32.780768</td><td>null</td><td>&quot;512 KiB (16 instances)&quot;</td><td>&quot;512 KiB (16 instances)&quot;</td><td>&quot;8 MiB (16 instances)&quot;</td><td>&quot;64 MiB (4 instances)&quot;</td><td>&quot;4528e47a3b92fc6b5a4fa5000a20c5…</td></tr><tr><td>&quot;eigenvalue-33c06ce6.c&quot;</td><td>&quot;-O3 -march=native -mtune=nativ…</td><td>0.304516</td><td>2024-11-03 22:30:10.171520</td><td>4</td><td>&quot;04c116405dd7c5743463fa90b64467…</td><td>&quot;Linux&quot;</td><td>&quot;AMD Ryzen 9 3950X 16-Core Proc…</td><td>&quot;gcc (Ubuntu 11.4.0-1ubuntu1~22…</td><td>&quot;Linux-6.9.3-76060903-generic-x…</td><td>&quot;x86_64&quot;</td><td>16</td><td>32</td><td>32.780768</td><td>null</td><td>&quot;512 KiB (16 instances)&quot;</td><td>&quot;512 KiB (16 instances)&quot;</td><td>&quot;8 MiB (16 instances)&quot;</td><td>&quot;64 MiB (4 instances)&quot;</td><td>&quot;948bddda92e7f5e374c0cfa1049165…</td></tr><tr><td>&quot;guass-elimination-3a6b05fc.c&quot;</td><td>&quot;-O3 -flto -fwhole-program -mar…</td><td>1.080903</td><td>2024-11-03 21:55:14.925916</td><td>4</td><td>&quot;04c116405dd7c5743463fa90b64467…</td><td>&quot;Linux&quot;</td><td>&quot;AMD Ryzen 9 3950X 16-Core Proc…</td><td>&quot;gcc (Ubuntu 11.4.0-1ubuntu1~22…</td><td>&quot;Linux-6.9.3-76060903-generic-x…</td><td>&quot;x86_64&quot;</td><td>16</td><td>32</td><td>32.780768</td><td>null</td><td>&quot;512 KiB (16 instances)&quot;</td><td>&quot;512 KiB (16 instances)&quot;</td><td>&quot;8 MiB (16 instances)&quot;</td><td>&quot;64 MiB (4 instances)&quot;</td><td>&quot;25728dd145beba4c686d77b7c2e5c6…</td></tr><tr><td>&hellip;</td><td>&hellip;</td><td>&hellip;</td><td>&hellip;</td><td>&hellip;</td><td>&hellip;</td><td>&hellip;</td><td>&hellip;</td><td>&hellip;</td><td>&hellip;</td><td>&hellip;</td><td>&hellip;</td><td>&hellip;</td><td>&hellip;</td><td>&hellip;</td><td>&hellip;</td><td>&hellip;</td><td>&hellip;</td><td>&hellip;</td><td>&hellip;</td></tr><tr><td>&quot;mergesort-a32154f4.c&quot;</td><td>&quot;-O3 -march=native -fomit-frame…</td><td>1.850719</td><td>2024-11-03 22:11:16.193518</td><td>4</td><td>&quot;04c116405dd7c5743463fa90b64467…</td><td>&quot;Linux&quot;</td><td>&quot;AMD Ryzen 9 3950X 16-Core Proc…</td><td>&quot;gcc (Ubuntu 11.4.0-1ubuntu1~22…</td><td>&quot;Linux-6.9.3-76060903-generic-x…</td><td>&quot;x86_64&quot;</td><td>16</td><td>32</td><td>32.780768</td><td>null</td><td>&quot;512 KiB (16 instances)&quot;</td><td>&quot;512 KiB (16 instances)&quot;</td><td>&quot;8 MiB (16 instances)&quot;</td><td>&quot;64 MiB (4 instances)&quot;</td><td>&quot;ce6ea2366c92f3f50c44ea8c97afba…</td></tr><tr><td>&quot;n-bodies-753227e0.c&quot;</td><td>&quot;-O3 -fwhole-program -funroll-l…</td><td>1.296985</td><td>2024-11-03 20:17:03.037302</td><td>4</td><td>&quot;04c116405dd7c5743463fa90b64467…</td><td>&quot;Linux&quot;</td><td>&quot;AMD Ryzen 9 3950X 16-Core Proc…</td><td>&quot;gcc (Ubuntu 11.4.0-1ubuntu1~22…</td><td>&quot;Linux-6.9.3-76060903-generic-x…</td><td>&quot;x86_64&quot;</td><td>16</td><td>32</td><td>32.780768</td><td>null</td><td>&quot;512 KiB (16 instances)&quot;</td><td>&quot;512 KiB (16 instances)&quot;</td><td>&quot;8 MiB (16 instances)&quot;</td><td>&quot;64 MiB (4 instances)&quot;</td><td>&quot;faed48cafea58e5424bb71b619e985…</td></tr><tr><td>&quot;quick-sort-d9140517.c&quot;</td><td>&quot;-O3 -funroll-loops -fno-math-e…</td><td>1.520188</td><td>2024-11-03 22:23:58.084474</td><td>4</td><td>&quot;04c116405dd7c5743463fa90b64467…</td><td>&quot;Linux&quot;</td><td>&quot;AMD Ryzen 9 3950X 16-Core Proc…</td><td>&quot;gcc (Ubuntu 11.4.0-1ubuntu1~22…</td><td>&quot;Linux-6.9.3-76060903-generic-x…</td><td>&quot;x86_64&quot;</td><td>16</td><td>32</td><td>32.780768</td><td>null</td><td>&quot;512 KiB (16 instances)&quot;</td><td>&quot;512 KiB (16 instances)&quot;</td><td>&quot;8 MiB (16 instances)&quot;</td><td>&quot;64 MiB (4 instances)&quot;</td><td>&quot;e70a3ef19865dcde5d89e76e3d8f83…</td></tr><tr><td>&quot;sort-by-frequency-631b17fc.c&quot;</td><td>&quot;-O3 -funroll-loops -march=nati…</td><td>1.124841</td><td>2024-11-03 20:41:28.789899</td><td>4</td><td>&quot;04c116405dd7c5743463fa90b64467…</td><td>&quot;Linux&quot;</td><td>&quot;AMD Ryzen 9 3950X 16-Core Proc…</td><td>&quot;gcc (Ubuntu 11.4.0-1ubuntu1~22…</td><td>&quot;Linux-6.9.3-76060903-generic-x…</td><td>&quot;x86_64&quot;</td><td>16</td><td>32</td><td>32.780768</td><td>null</td><td>&quot;512 KiB (16 instances)&quot;</td><td>&quot;512 KiB (16 instances)&quot;</td><td>&quot;8 MiB (16 instances)&quot;</td><td>&quot;64 MiB (4 instances)&quot;</td><td>&quot;94123221f8e3b2623ed32e240fbace…</td></tr><tr><td>&quot;sparse-matmul-ad538b74.c&quot;</td><td>&quot;-O3 -funroll-loops -flto&quot;</td><td>1.325637</td><td>2024-11-03 22:37:38.064939</td><td>4</td><td>&quot;04c116405dd7c5743463fa90b64467…</td><td>&quot;Linux&quot;</td><td>&quot;AMD Ryzen 9 3950X 16-Core Proc…</td><td>&quot;gcc (Ubuntu 11.4.0-1ubuntu1~22…</td><td>&quot;Linux-6.9.3-76060903-generic-x…</td><td>&quot;x86_64&quot;</td><td>16</td><td>32</td><td>32.780768</td><td>null</td><td>&quot;512 KiB (16 instances)&quot;</td><td>&quot;512 KiB (16 instances)&quot;</td><td>&quot;8 MiB (16 instances)&quot;</td><td>&quot;64 MiB (4 instances)&quot;</td><td>&quot;ff7dfaae34dd98b0b8e18f44b41e71…</td></tr></tbody></table></div>"
      ],
      "text/plain": [
       "shape: (17, 20)\n",
       "┌───────────┬───────────┬───────────┬───────────┬───┬───────────┬───────────┬───────────┬──────────┐\n",
       "│ c_filenam ┆ flags     ┆ runtime   ┆ created_a ┆ … ┆ sys_specs ┆ sys_specs ┆ sys_specs ┆ id       │\n",
       "│ e         ┆ ---       ┆ ---       ┆ t         ┆   ┆ _l1_d_siz ┆ _l2_size  ┆ _l3_size  ┆ ---      │\n",
       "│ ---       ┆ str       ┆ f64       ┆ ---       ┆   ┆ e         ┆ ---       ┆ ---       ┆ str      │\n",
       "│ str       ┆           ┆           ┆ datetime[ ┆   ┆ ---       ┆ str       ┆ str       ┆          │\n",
       "│           ┆           ┆           ┆ μs]       ┆   ┆ str       ┆           ┆           ┆          │\n",
       "╞═══════════╪═══════════╪═══════════╪═══════════╪═══╪═══════════╪═══════════╪═══════════╪══════════╡\n",
       "│ b-tree-74 ┆ -O3 -marc ┆ 3.7287985 ┆ 2024-11-0 ┆ … ┆ 512 KiB   ┆ 8 MiB (16 ┆ 64 MiB (4 ┆ a68bc116 │\n",
       "│ 0a1306.c  ┆ h=native  ┆           ┆ 3 21:16:1 ┆   ┆ (16 insta ┆ instances ┆ instances ┆ 4e35fcf2 │\n",
       "│           ┆           ┆           ┆ 9.616530  ┆   ┆ nces)     ┆ )         ┆ )         ┆ eda87b76 │\n",
       "│           ┆           ┆           ┆           ┆   ┆           ┆           ┆           ┆ d589df…  │\n",
       "│ cond-bran ┆ -O3 -funr ┆ 4.2437    ┆ 2024-11-0 ┆ … ┆ 512 KiB   ┆ 8 MiB (16 ┆ 64 MiB (4 ┆ 3bc1926c │\n",
       "│ ching-872 ┆ oll-loops ┆           ┆ 3 21:43:2 ┆   ┆ (16 insta ┆ instances ┆ instances ┆ b52466e6 │\n",
       "│ 09a89.c   ┆ -march=na ┆           ┆ 3.313757  ┆   ┆ nces)     ┆ )         ┆ )         ┆ bf61eda3 │\n",
       "│           ┆ ti…       ┆           ┆           ┆   ┆           ┆           ┆           ┆ 6a4d3d…  │\n",
       "│ dijkstra- ┆ -O3 -flto ┆ 1.2221225 ┆ 2024-11-0 ┆ … ┆ 512 KiB   ┆ 8 MiB (16 ┆ 64 MiB (4 ┆ 4528e47a │\n",
       "│ 8d333a4f. ┆           ┆           ┆ 3 21:32:0 ┆   ┆ (16 insta ┆ instances ┆ instances ┆ 3b92fc6b │\n",
       "│ c         ┆           ┆           ┆ 5.412505  ┆   ┆ nces)     ┆ )         ┆ )         ┆ 5a4fa500 │\n",
       "│           ┆           ┆           ┆           ┆   ┆           ┆           ┆           ┆ 0a20c5…  │\n",
       "│ eigenvalu ┆ -O3 -marc ┆ 0.304516  ┆ 2024-11-0 ┆ … ┆ 512 KiB   ┆ 8 MiB (16 ┆ 64 MiB (4 ┆ 948bddda │\n",
       "│ e-33c06ce ┆ h=native  ┆           ┆ 3 22:30:1 ┆   ┆ (16 insta ┆ instances ┆ instances ┆ 92e7f5e3 │\n",
       "│ 6.c       ┆ -mtune=na ┆           ┆ 0.171520  ┆   ┆ nces)     ┆ )         ┆ )         ┆ 74c0cfa1 │\n",
       "│           ┆ tiv…      ┆           ┆           ┆   ┆           ┆           ┆           ┆ 049165…  │\n",
       "│ guass-eli ┆ -O3 -flto ┆ 1.080903  ┆ 2024-11-0 ┆ … ┆ 512 KiB   ┆ 8 MiB (16 ┆ 64 MiB (4 ┆ 25728dd1 │\n",
       "│ mination- ┆ -fwhole-p ┆           ┆ 3 21:55:1 ┆   ┆ (16 insta ┆ instances ┆ instances ┆ 45beba4c │\n",
       "│ 3a6b05fc. ┆ rogram    ┆           ┆ 4.925916  ┆   ┆ nces)     ┆ )         ┆ )         ┆ 686d77b7 │\n",
       "│ c         ┆ -mar…     ┆           ┆           ┆   ┆           ┆           ┆           ┆ c2e5c6…  │\n",
       "│ …         ┆ …         ┆ …         ┆ …         ┆ … ┆ …         ┆ …         ┆ …         ┆ …        │\n",
       "│ mergesort ┆ -O3 -marc ┆ 1.850719  ┆ 2024-11-0 ┆ … ┆ 512 KiB   ┆ 8 MiB (16 ┆ 64 MiB (4 ┆ ce6ea236 │\n",
       "│ -a32154f4 ┆ h=native  ┆           ┆ 3 22:11:1 ┆   ┆ (16 insta ┆ instances ┆ instances ┆ 6c92f3f5 │\n",
       "│ .c        ┆ -fomit-fr ┆           ┆ 6.193518  ┆   ┆ nces)     ┆ )         ┆ )         ┆ 0c44ea8c │\n",
       "│           ┆ ame…      ┆           ┆           ┆   ┆           ┆           ┆           ┆ 97afba…  │\n",
       "│ n-bodies- ┆ -O3 -fwho ┆ 1.296985  ┆ 2024-11-0 ┆ … ┆ 512 KiB   ┆ 8 MiB (16 ┆ 64 MiB (4 ┆ faed48ca │\n",
       "│ 753227e0. ┆ le-progra ┆           ┆ 3 20:17:0 ┆   ┆ (16 insta ┆ instances ┆ instances ┆ fea58e54 │\n",
       "│ c         ┆ m -funrol ┆           ┆ 3.037302  ┆   ┆ nces)     ┆ )         ┆ )         ┆ 24bb71b6 │\n",
       "│           ┆ l-l…      ┆           ┆           ┆   ┆           ┆           ┆           ┆ 19e985…  │\n",
       "│ quick-sor ┆ -O3 -funr ┆ 1.520188  ┆ 2024-11-0 ┆ … ┆ 512 KiB   ┆ 8 MiB (16 ┆ 64 MiB (4 ┆ e70a3ef1 │\n",
       "│ t-d914051 ┆ oll-loops ┆           ┆ 3 22:23:5 ┆   ┆ (16 insta ┆ instances ┆ instances ┆ 9865dcde │\n",
       "│ 7.c       ┆ -fno-math ┆           ┆ 8.084474  ┆   ┆ nces)     ┆ )         ┆ )         ┆ 5d89e76e │\n",
       "│           ┆ -e…       ┆           ┆           ┆   ┆           ┆           ┆           ┆ 3d8f83…  │\n",
       "│ sort-by-f ┆ -O3 -funr ┆ 1.124841  ┆ 2024-11-0 ┆ … ┆ 512 KiB   ┆ 8 MiB (16 ┆ 64 MiB (4 ┆ 94123221 │\n",
       "│ requency- ┆ oll-loops ┆           ┆ 3 20:41:2 ┆   ┆ (16 insta ┆ instances ┆ instances ┆ f8e3b262 │\n",
       "│ 631b17fc. ┆ -march=na ┆           ┆ 8.789899  ┆   ┆ nces)     ┆ )         ┆ )         ┆ 3ed32e24 │\n",
       "│ c         ┆ ti…       ┆           ┆           ┆   ┆           ┆           ┆           ┆ 0fbace…  │\n",
       "│ sparse-ma ┆ -O3 -funr ┆ 1.325637  ┆ 2024-11-0 ┆ … ┆ 512 KiB   ┆ 8 MiB (16 ┆ 64 MiB (4 ┆ ff7dfaae │\n",
       "│ tmul-ad53 ┆ oll-loops ┆           ┆ 3 22:37:3 ┆   ┆ (16 insta ┆ instances ┆ instances ┆ 34dd98b0 │\n",
       "│ 8b74.c    ┆ -flto     ┆           ┆ 8.064939  ┆   ┆ nces)     ┆ )         ┆ )         ┆ b8e18f44 │\n",
       "│           ┆           ┆           ┆           ┆   ┆           ┆           ┆           ┆ b41e71…  │\n",
       "└───────────┴───────────┴───────────┴───────────┴───┴───────────┴───────────┴───────────┴──────────┘"
      ]
     },
     "execution_count": 4,
     "metadata": {},
     "output_type": "execute_result"
    }
   ],
   "source": [
    "df_grouped = df.sort(pl.col('runtime')).group_by(pl.col('c_filename')).first()\n",
    "df_grouped = df_grouped.sort(pl.col('c_filename'))\n",
    "df_grouped"
   ]
  },
  {
   "cell_type": "markdown",
   "metadata": {},
   "source": [
    "## Data Preperation"
   ]
  },
  {
   "cell_type": "code",
   "execution_count": 5,
   "metadata": {},
   "outputs": [],
   "source": [
    "X_raw = []\n",
    "y = []\n",
    "\n",
    "iter_obj = zip(\n",
    "    df_grouped['sys_specs_cpu'].to_list(),\n",
    "    df_grouped['sys_specs_os_version'].to_list(),\n",
    "    df_grouped['sys_specs_cpu_arch'].to_list(),\n",
    "    df_grouped['sys_specs_compiler'].to_list(),\n",
    "    df_grouped['c_filename'].to_list(),\n",
    "\tdf_grouped['flags'].to_list(),\n",
    ")\n",
    "\n",
    "for (cpu, os, arch, compiler, c_file, flags) in iter_obj:\n",
    "\twith open(f'C-dataset/{c_file}', 'r') as f:\n",
    "\t\tc_source = f.read()\n",
    "\tpayload = dist.torch_utils.InferenceUtils.format_prompt(c_source, cpu, arch, os, compiler)\n",
    "\tX_raw.append(payload)\n",
    "\ty.append(dist.torch_utils.InferenceUtils.onhot_encode(flags))\n",
    "\n",
    "y = torch.from_numpy(np.stack(y))\n"
   ]
  },
  {
   "cell_type": "code",
   "execution_count": 6,
   "metadata": {},
   "outputs": [],
   "source": [
    "# tokenizer = AutoTokenizer.from_pretrained(\"Qwen/Qwen2.5-1.5B-Instruct\")\n",
    "# hf_model = AutoModelForCausalLM.from_pretrained(\"Qwen/Qwen2.5-1.5B-Instruct\")\n",
    "\n",
    "# model_name = \"allenai/led-base-16384\"  # LED model with a 16,384 token context window\n",
    "# tokenizer = LEDTokenizer.from_pretrained(model_name)\n",
    "# hf_model = LEDForConditionalGeneration.from_pretrained(model_name)"
   ]
  },
  {
   "cell_type": "code",
   "execution_count": 7,
   "metadata": {},
   "outputs": [],
   "source": [
    "tokenizer = AutoTokenizer.from_pretrained(\"distilbert-base-uncased\")\n",
    "hf_model = DistilBertModel.from_pretrained(\"distilbert-base-uncased\")"
   ]
  },
  {
   "cell_type": "code",
   "execution_count": 8,
   "metadata": {},
   "outputs": [
    {
     "data": {
      "text/plain": [
       "{'input_ids': torch.Size([17, 4096]), 'attention_mask': torch.Size([17, 4096])}"
      ]
     },
     "execution_count": 8,
     "metadata": {},
     "output_type": "execute_result"
    }
   ],
   "source": [
    "X = tokenizer(X_raw, padding='max_length', return_tensors='pt', max_length=(2**12))\n",
    "X = {k:v for k, v in X.items()}\n",
    "{k:v.size() for k, v in X.items()}"
   ]
  },
  {
   "cell_type": "markdown",
   "metadata": {},
   "source": [
    "## Model Training"
   ]
  },
  {
   "cell_type": "code",
   "execution_count": 9,
   "metadata": {},
   "outputs": [],
   "source": [
    "X = {k:v.to(DEVICE) for k, v in X.items()}\n",
    "y = y.to(DEVICE).to(torch.float32)"
   ]
  },
  {
   "cell_type": "code",
   "execution_count": 10,
   "metadata": {},
   "outputs": [],
   "source": [
    "model = dist.torch_utils.FlagModel(hf_model, len(dist.torch_utils.InferenceUtils.FLAGS)).to(DEVICE)"
   ]
  },
  {
   "cell_type": "code",
   "execution_count": 13,
   "metadata": {},
   "outputs": [
    {
     "name": "stdout",
     "output_type": "stream",
     "text": [
      "Epoch: 0   : 3.467581272125244\n",
      "Epoch: 1   : 1.4357578754425049\n",
      "Epoch: 2   : 0.8747193813323975\n",
      "Epoch: 3   : 0.7802227139472961\n",
      "Epoch: 4   : 0.7162343263626099\n",
      "Epoch: 5   : 0.672146737575531\n",
      "Epoch: 6   : 0.6354959011077881\n",
      "Epoch: 7   : 0.6114402413368225\n",
      "Epoch: 8   : 0.5894307494163513\n",
      "Epoch: 9   : 0.5748398900032043\n",
      "Epoch: 10  : 0.5647257566452026\n",
      "Epoch: 11  : 0.5561930537223816\n",
      "Epoch: 12  : 0.5479611754417419\n",
      "Epoch: 13  : 0.5387503504753113\n",
      "Epoch: 14  : 0.530734121799469\n",
      "Epoch: 15  : 0.5227965116500854\n",
      "Epoch: 16  : 0.5173941254615784\n",
      "Epoch: 17  : 0.5117778778076172\n",
      "Epoch: 18  : 0.5065511465072632\n",
      "Epoch: 19  : 0.5014582872390747\n",
      "Epoch: 20  : 0.4943024218082428\n",
      "Epoch: 21  : 0.48640143871307373\n",
      "Epoch: 22  : 0.47873178124427795\n",
      "Epoch: 23  : 0.46921348571777344\n",
      "Epoch: 24  : 0.46031415462493896\n",
      "Epoch: 25  : 0.45124778151512146\n",
      "Epoch: 26  : 0.44281989336013794\n",
      "Epoch: 27  : 0.4356633424758911\n",
      "Epoch: 28  : 0.42823702096939087\n",
      "Epoch: 29  : 0.42099443078041077\n",
      "Epoch: 30  : 0.4132651686668396\n",
      "Epoch: 31  : 0.4050363302230835\n",
      "Epoch: 32  : 0.3968081772327423\n",
      "Epoch: 33  : 0.38823944330215454\n",
      "Epoch: 34  : 0.3797476589679718\n",
      "Epoch: 35  : 0.37149181962013245\n",
      "Epoch: 36  : 0.36276841163635254\n",
      "Epoch: 37  : 0.3542717397212982\n",
      "Epoch: 38  : 0.3452160656452179\n",
      "Epoch: 39  : 0.33583906292915344\n",
      "Epoch: 40  : 0.32632192969322205\n",
      "Epoch: 41  : 0.3166661560535431\n",
      "Epoch: 42  : 0.3071911036968231\n",
      "Epoch: 43  : 0.2978762984275818\n",
      "Epoch: 44  : 0.28840863704681396\n"
     ]
    }
   ],
   "source": [
    "# 1) Set up loss function and optimizer\n",
    "loss = torch.nn.BCEWithLogitsLoss()\n",
    "optimizer = torch.optim.AdamW([\n",
    "    {'params': model.language_model.parameters(),  'lr': 1e-6},\n",
    "\t{'params': model.fc_in.parameters(), 'lr': 1e-3},\n",
    "    {'params': model.fc1.parameters(),   'lr': 1e-3},\n",
    "\t{'params': model.fc2.parameters(),   'lr': 1e-3},\n",
    "    {'params': model.out.parameters(),   'lr': 1e-3},\n",
    "])\n",
    "\n",
    "model.train() # Set model to train mode (turn on gradient tracking)\n",
    "\n",
    "epochs = 45\n",
    "for epoch in range (epochs):\n",
    "\t# 2) Forward Propagation\n",
    "\ty_pred = model(X)\n",
    "\n",
    "\t# 3) loss calculation\n",
    "\tcurr_loss = loss(y_pred, y)\n",
    "\n",
    "\t# 4) Clear out optimizer gradients\n",
    "\toptimizer.zero_grad()\n",
    "\n",
    "\t# 5) Back Propagation\n",
    "\tcurr_loss.backward()\n",
    "\n",
    "\t# 6) Optimizer step\n",
    "\toptimizer.step()\n",
    "\n",
    "\tprint(f\"Epoch: {epoch:<3} : {curr_loss}\")"
   ]
  },
  {
   "cell_type": "code",
   "execution_count": null,
   "metadata": {},
   "outputs": [],
   "source": [
    "torch.save(model, './dist/models/trufling-flags-70M.pt')"
   ]
  },
  {
   "cell_type": "markdown",
   "metadata": {},
   "source": [
    "## Testing"
   ]
  },
  {
   "cell_type": "code",
   "execution_count": 18,
   "metadata": {},
   "outputs": [
    {
     "name": "stdout",
     "output_type": "stream",
     "text": [
      "torch.Size([16]) \n",
      "\n",
      "tensor([0.9985, 0.9276, 0.6222, 0.8843, 0.8120, 0.9758, 0.8824, 0.9610, 0.3903,\n",
      "        0.9869, 0.1565, 0.9967, 0.7015, 0.9938, 0.9943, 0.8292],\n",
      "       device='cuda:0') \n",
      "\n",
      "['-O3', '-falign-functions=32', '-falign-loops=32', '-ffast-math', '-fipa-pta', '-flto', '-fmerge-all-constants', '-fno-math-errno', '-fomit-frame-pointer', '-fprefetch-loop-arrays', '-ftree-vectorize', '-funroll-loops', '-funsafe-math-optimizations', '-fwhole-program', '-march=native', '-mtune=native']\n",
      "\n",
      "\n",
      "\n",
      "\n"
     ]
    },
    {
     "name": "stderr",
     "output_type": "stream",
     "text": [
      "/tmp/ipykernel_18848/2676800994.py:1: FutureWarning: You are using `torch.load` with `weights_only=False` (the current default value), which uses the default pickle module implicitly. It is possible to construct malicious pickle data which will execute arbitrary code during unpickling (See https://github.com/pytorch/pytorch/blob/main/SECURITY.md#untrusted-models for more details). In a future release, the default value for `weights_only` will be flipped to `True`. This limits the functions that could be executed during unpickling. Arbitrary objects will no longer be allowed to be loaded via this mode unless they are explicitly allowlisted by the user via `torch.serialization.add_safe_globals`. We recommend you start setting `weights_only=True` for any use case where you don't have full control of the loaded file. Please open an issue on GitHub for any issues related to this experimental feature.\n",
      "  model = torch.load(\"./dist/models/trufling-70M.pt\")\n"
     ]
    }
   ],
   "source": [
    "model = torch.load(\"./dist/models/trufling-70M.pt\")\n",
    "\n",
    "file = 'C-dataset/linkedlist-78b31e23.c'\n",
    "file = 'C-dataset/eigenvalue-33c06ce6.c'\n",
    "\n",
    "with open(file, 'r') as f:\n",
    "    c_source = f.read()\n",
    "\n",
    "tokens = tokenizer([c_source], return_tensors='pt', padding='max_length', max_length=4096)\n",
    "tokens = {k:v.to(DEVICE) for k, v in tokens.items()}\n",
    "\n",
    "\n",
    "with torch.no_grad():\n",
    "    res = model(tokens)\n",
    "    res = res.flatten()\n",
    "    res = torch.sigmoid(res)\n",
    "print(res.size(), '\\n')\n",
    "\n",
    "print(res, '\\n')\n",
    "\n",
    "flags = dist.torch_utils.InferenceUtils.gen_flags(res)\n",
    "print(flags)\n",
    "print('\\n\\n\\n')"
   ]
  },
  {
   "cell_type": "code",
   "execution_count": 24,
   "metadata": {},
   "outputs": [
    {
     "data": {
      "text/plain": [
       "69010000"
      ]
     },
     "execution_count": 24,
     "metadata": {},
     "output_type": "execute_result"
    }
   ],
   "source": [
    "def count_parameters(model):\n",
    "    total_params = 0\n",
    "    for param in model.parameters():\n",
    "        if param.requires_grad:\n",
    "            total_params += param.numel()\n",
    "    return total_params\n",
    "\n",
    "count_parameters(model)"
   ]
  },
  {
   "cell_type": "code",
   "execution_count": 46,
   "metadata": {},
   "outputs": [
    {
     "name": "stdout",
     "output_type": "stream",
     "text": [
      "Filename: b-tree-740a1306.c\n",
      "Flag: -O3 -march=native\n",
      "\n",
      "Filename: cond-branching-87209a89.c\n",
      "Flag: -O3 -funroll-loops -march=native -mtune=native -fno-math-errno -ffast-math\n",
      "\n",
      "Filename: dijkstra-8d333a4f.c\n",
      "Flag: -O3 -flto\n",
      "\n",
      "Filename: eigenvalue-33c06ce6.c\n",
      "Flag: -O3 -march=native -mtune=native -funroll-loops -fprefetch-loop-arrays -flto -ffast-math -fno-math-errno -funsafe-math-optimizations -fomit-frame-pointer -fwhole-program -fmerge-all-constants -fipa-pta -falign-functions=32 -falign-loops=32\n",
      "\n",
      "Filename: guass-elimination-3a6b05fc.c\n",
      "Flag: -O3 -flto -fwhole-program -march=native -funroll-loops\n",
      "\n",
      "Filename: hashmap-d3e0d305.c\n",
      "Flag: -O3 -funroll-loops -march=native -mtune=native -fno-math-errno -ffast-math\n",
      "\n",
      "Filename: heapsort-43e011c8.c\n",
      "Flag: -O3 -fprefetch-loop-arrays\n",
      "\n",
      "Filename: json-parsing-46a4d7b3.c\n",
      "Flag: -O3 -funroll-loops -fprefetch-loop-arrays -march=native -ffast-math\n",
      "\n",
      "Filename: knapsack-758bb0aa.c\n",
      "Flag: -O3 -march=native -mtune=native -funroll-loops -fprefetch-loop-arrays -flto -ffast-math -fno-math-errno -funsafe-math-optimizations -fomit-frame-pointer -fwhole-program -fmerge-all-constants -fipa-pta -falign-functions=32 -falign-loops=32\n",
      "\n",
      "Filename: linkedlist-78b31e23.c\n",
      "Flag: -O3 -flto -fwhole-program -march=native -funroll-loops\n",
      "\n",
      "Filename: lu-decomposition-e63ee99a.c\n",
      "Flag: -O3 -march=native -mtune=native -funroll-loops -fprefetch-loop-arrays -flto -ffast-math -fno-math-errno -funsafe-math-optimizations -fomit-frame-pointer -fwhole-program -fmerge-all-constants -fipa-pta -falign-functions=32 -falign-loops=32\n",
      "\n",
      "Filename: matmul-b9768429.c\n",
      "Flag: -O3 -march=native -funroll-loops -funsafe-math-optimizations -ffast-math\n",
      "\n",
      "Filename: mergesort-a32154f4.c\n",
      "Flag: -O3 -march=native -fomit-frame-pointer -flto\n",
      "\n",
      "Filename: n-bodies-753227e0.c\n",
      "Flag: -O3 -fwhole-program -funroll-loops -march=native -ffast-math\n",
      "\n",
      "Filename: quick-sort-d9140517.c\n",
      "Flag: -O3 -funroll-loops -fno-math-errno -march=native\n",
      "\n",
      "Filename: sort-by-frequency-631b17fc.c\n",
      "Flag: -O3 -funroll-loops -march=native -fwhole-program -flto\n",
      "\n",
      "Filename: sparse-matmul-ad538b74.c\n",
      "Flag: -O3 -funroll-loops -flto\n",
      "\n"
     ]
    }
   ],
   "source": [
    "s = df_grouped[['c_filename', 'flags']].to_struct().to_list()\n",
    "for i in s:\n",
    "    print(f\"Filename: {i['c_filename']}\\nFlag: {i['flags']}\\n\")"
   ]
  },
  {
   "cell_type": "markdown",
   "metadata": {},
   "source": [
    "## Scratch"
   ]
  },
  {
   "cell_type": "code",
   "execution_count": 2,
   "metadata": {},
   "outputs": [
    {
     "data": {
      "text/plain": [
       "SystemSpec(os='Linux', cpu='AMD Ryzen 9 3950X 16-Core Processor', compiler='gcc (Ubuntu 11.4.0-1ubuntu1~22.04) 11.4.0', os_version='Linux-6.9.3-76060903-generic-x86_64-with-glibc2.35', cpu_arch='x86_64', cpu_physical_cores=16, cpu_logical_cores=32, mem_size_gb=32.780768, mem_speed_mhz=None, l1_i_size='512 KiB (16 instances)', l1_d_size='512 KiB (16 instances)', l2_size='8 MiB (16 instances)', l3_size='64 MiB (4 instances)')"
      ]
     },
     "execution_count": 2,
     "metadata": {},
     "output_type": "execute_result"
    }
   ],
   "source": [
    "utils.SystemSpec.generate()"
   ]
  },
  {
   "cell_type": "code",
   "execution_count": null,
   "metadata": {},
   "outputs": [],
   "source": [
    "with shelve.open('./benchmarking-dataset/benchmark.shelve') as db:\n",
    "    data = dict(db)\n",
    "len(data)"
   ]
  },
  {
   "cell_type": "code",
   "execution_count": null,
   "metadata": {},
   "outputs": [],
   "source": [
    "idx = 9\n",
    "ptr: utils.ExecutionTrial = list(data.values())[idx]\n",
    "print(ptr.c_filename)\n",
    "print(ptr.flags)\n",
    "print(ptr.time_elapsed())"
   ]
  },
  {
   "cell_type": "code",
   "execution_count": 20,
   "metadata": {},
   "outputs": [
    {
     "name": "stdout",
     "output_type": "stream",
     "text": [
      "Embedding: [1.6490572690963745, 0.9081770777702332, -1.1945759057998657, -0.5772809386253357, 0.16351068019866943, -0.3475622832775116, 1.140226125717163, -0.17751000821590424, 0.5545435547828674, -0.7910482883453369, -1.219162106513977, 0.2671194076538086, 1.1699737310409546, 0.31394606828689575, 0.19645237922668457, -0.5049535632133484, -0.38436177372932434, -0.987790584564209, 0.6696007251739502, 0.593305766582489, 0.3193209767341614, 0.023933107033371925, -0.39659640192985535, 0.029780719429254532, -0.21617330610752106, -0.013321535661816597, -0.6268774271011353, -0.11695615947246552, -1.0875308513641357, -0.07231128215789795, 0.21316155791282654, 0.07577144354581833, 0.36072975397109985, -0.035064712166786194, -0.7211555242538452, 0.12904375791549683, 0.4178484380245209, -0.1826760172843933, 1.2785347700119019, -0.2995186448097229, -0.08250722289085388, 0.25382620096206665, 0.15698009729385376, 0.18455518782138824, 0.539380669593811, 0.11845489591360092, 1.109390139579773, 0.3535630702972412, -0.3754541873931885, -1.178773045539856, 0.4243626594543457, 0.06328418105840683, -0.014804728329181671, -0.09043262898921967, 0.5845918655395508, 0.48549729585647583, -0.4040648341178894, 0.08532843738794327, 1.1070162057876587, -0.20171914994716644, 1.710451602935791, 0.7502644062042236, -0.8216683864593506, 0.29409679770469666, 0.9267389178276062, -0.5783722996711731, 0.5651987195014954, 0.2786978483200073, -0.40221211314201355, 0.6973102688789368, 0.2806425392627716, -0.30333760380744934, -0.2839306592941284, 0.0570998415350914, -0.9328191876411438, 0.6671375036239624, 0.1691260188817978, -0.008234040811657906, -0.38177981972694397, 0.13891686499118805, -0.6976684927940369, -0.5956072807312012, 0.11668987572193146, -0.14957717061042786, -0.4575273394584656, 0.1771513819694519, -0.559877336025238, -0.4167248606681824, -0.5975952744483948, 0.9814111590385437, -0.12798108160495758, 0.8439708352088928, 0.4551556706428528, 0.535840630531311, -0.346536785364151, -0.21309849619865417, 0.3221208155155182, 0.08210518956184387, -0.5001166462898254, 0.09159534424543381, -0.5289641618728638, -0.7640519738197327, 0.11464755982160568, -1.363992691040039, 0.599045991897583, 0.4511626064777374, -0.13709567487239838, -0.5250218510627747, -0.3301113545894623, -0.04980562627315521, -0.6054247617721558, -0.15818338096141815, -0.8330331444740295, -0.3666299879550934, -0.4685177206993103, -0.38342443108558655, 1.1168063879013062, -1.099952220916748, 0.9911432862281799, 0.04421660676598549, -0.9834179878234863, -0.7716802358627319, -0.6406975388526917, -0.24565045535564423, 0.18998131155967712, 0.20843732357025146, -0.46949249505996704, -0.11116564273834229, -0.17308203876018524, 0.05683188885450363, -0.3246297538280487, 0.4543779492378235, -0.2216540426015854, 0.5280483961105347, 0.2002604752779007, 0.8315706253051758, -0.30400264263153076, -0.36525848507881165, 0.3387851417064667, 1.042490005493164, 0.6733892560005188, -0.38464346528053284, -0.4544239044189453, -0.4937080442905426, -0.030407128855586052, -0.39585721492767334, 0.5507930517196655, -0.4883824586868286, -0.5589665174484253, -0.7399599552154541, -0.43267032504081726, 0.5540388822555542, -0.09491659700870514, 0.29780563712120056, 0.517006516456604, 0.5944051742553711, 0.28909409046173096, -0.3291313052177429, 0.3967311978340149, -0.16396714746952057, 1.7248328924179077, 0.10211224108934402, -0.3367885649204254, 0.3775629997253418, -0.42334792017936707, 0.02591666579246521, -0.09349019825458527, 0.18993020057678223, 0.32862627506256104, -0.15519283711910248, -0.9845970273017883, -0.6383233070373535, 0.30362915992736816, 0.12159749120473862, -0.11709796637296677, 0.9827352166175842, 0.29946404695510864, -0.3874276578426361, 0.03189300373196602, -0.5269137620925903, 0.2881530821323395, 0.000695051799993962, 0.7025748491287231, 0.6462832093238831, 0.5737646222114563, -0.4846583604812622, 0.6064300537109375, 0.4698666036128998, 0.04060622304677963, -0.6853099465370178, 0.3765430748462677, -0.2242453396320343, -0.5112013220787048, -0.3813786208629608, -0.9618573188781738, 0.7539336681365967, 1.0479204654693604, 0.10895939916372299, 0.8032143115997314, 0.20210815966129303, 0.20524777472019196, 0.10129035264253616, -0.09244174510240555, 0.6448651552200317, -0.26319196820259094, -0.06727754324674606, 0.25093236565589905, 0.9217429161071777, -0.7028933763504028, 0.558833122253418, 0.39342913031578064, 0.9290215373039246, -0.7141072154045105, 1.2609257698059082, 0.28426995873451233, 0.34282612800598145, 0.2032594084739685, -0.8260403275489807, -0.310394823551178, 1.3946843147277832, 0.5507502555847168, -0.6334428191184998, -0.2840869128704071, 0.49838292598724365, 1.2203693389892578, 0.13421526551246643, -0.7012719511985779, -0.13875310122966766, -0.5081502795219421, 0.19378358125686646, -0.2647613286972046, -0.3610171377658844, 0.44546815752983093, -0.3655220866203308, -0.031873539090156555, -0.19831223785877228, 0.17207005620002747, 0.013786785304546356, -0.171999990940094, 0.3389469385147095, 0.12322066724300385, -0.07237614691257477, -0.4903238117694855, -0.6994041800498962, -0.6010310053825378, -0.11962051689624786, 0.3931887745857239, -0.1624726802110672, -0.5780777931213379, 0.5993867516517639, 0.047906555235385895, 0.9541432857513428, 0.4280703365802765, 1.0931504964828491, 0.008698014542460442, -0.6358353495597839, -0.3824663758277893, 0.2470797896385193, -0.44882819056510925, -0.16702742874622345, 0.7925881147384644, 0.2808615565299988, 0.482941597700119, 0.02619684487581253, -0.800647497177124, -0.2712009847164154, 0.30962568521499634, -0.7583538293838501, -0.288712739944458, -0.29934588074684143, -0.6807125806808472, 0.6049153208732605, 0.3472142517566681, 0.6933071613311768, 0.07078205049037933, -0.27471742033958435, 0.936130702495575, 0.0016762670129537582, 0.6681044101715088, -0.0450226366519928, -0.8212786316871643, -0.6826901435852051, -0.8848575949668884, 0.10386301577091217, 0.31549522280693054, -0.21932874619960785, -0.03541022166609764, 0.33368921279907227, 0.6038818359375, -0.04549325630068779, -0.00877415295690298, 0.08404947072267532, 0.14660397171974182, -0.06766527891159058, 0.3088743984699249, 0.8619883060455322, -0.05107893794775009, -0.2124173492193222, -0.10647933185100555, -0.9108185172080994, -0.16777445375919342, 0.019335176795721054, 0.49674299359321594, 0.5411516427993774, -1.2573684453964233, 0.23343245685100555, -0.3902473747730255, -0.5223489999771118, -1.194344162940979, -0.82088303565979, 0.4552195072174072, 0.2635895013809204, -0.7034986615180969, -0.021878860890865326, -0.39331120252609253, 0.043231088668107986, 0.43138936161994934, -0.06735098361968994, 0.524859607219696, -0.6756254434585571, -0.374721497297287, -0.41714081168174744, 0.05135656148195267, -0.5615354180335999, 0.2869460880756378, 0.4679419994354248, -0.24835222959518433, 0.19844521582126617, -0.0638413056731224, 0.625012993812561, 0.0366349034011364, 0.15024906396865845, -0.23238800466060638, -0.013808240182697773, -1.3133727312088013, -0.769332766532898, -0.06118083372712135, 0.5496608018875122, 0.6324043869972229, 0.6317659616470337, 0.0557667538523674, -0.0829995721578598, -0.1667862981557846, -0.13552236557006836, 0.36559075117111206, 0.4636048972606659, 0.015491625294089317, -0.5609122514724731, 0.12465617805719376, 0.024114415049552917, 0.45602285861968994, -0.28021496534347534, -0.8353446125984192, -0.21512405574321747, 0.20577792823314667, 0.21569228172302246, -0.08512189239263535, 0.20504094660282135, 0.47204115986824036, -0.08204871416091919, 0.774732768535614, -0.08616375923156738, -0.08452091366052628, -0.5680246949195862, 0.11303146928548813, -0.09375614672899246, 0.695854902267456, 0.6859585046768188, 0.20191237330436707, -1.2587851285934448, 0.24508044123649597, 0.2055429071187973, -0.09040743112564087, 0.1715526133775711, -0.5255492925643921, 0.3977096974849701, -0.34161436557769775, 0.16369572281837463, -0.15942025184631348, -0.02960163727402687, 1.0764384269714355, -0.6715061068534851, 0.10871575772762299, -0.36523017287254333, -0.1585226207971573, 0.1918221116065979, 0.22361859679222107, -0.9442672729492188, -0.5141232013702393, 0.2635818123817444, -0.4926009774208069, -0.8304664492607117, -0.035882726311683655, -0.7219060063362122, 0.14302454888820648, -0.8261683583259583, 0.024210479110479355, -0.3669288754463196, -0.7969639897346497, 0.2862934172153473, -0.5734701156616211, -0.2301563322544098, 0.18862362205982208, -0.20211002230644226, 0.023947523906826973, 0.004118143580853939, -0.1398008167743683, -0.4370766878128052, 0.7884587645530701, -0.23182080686092377, -0.14718924462795258, 0.5416598320007324, 0.67121422290802, -0.8795527815818787, 0.35440656542778015, -0.241629496216774, 1.156511664390564, -0.11789967119693756, -0.2094404250383377, -0.33654770255088806, 0.16057518124580383, 0.4207232594490051, -0.010840470902621746, 0.08295915275812149, 0.23916125297546387, 0.05121026188135147, 0.27668774127960205, 0.013272291980683804, 0.16969594359397888, -1.0403010845184326, -0.002928057685494423, 0.48003432154655457, 0.923784077167511, 0.4520248770713806, -0.8022589683532715, 0.044883374124765396, 0.39526933431625366, 1.253496766090393, -0.3147369921207428, 0.6526914834976196, -0.029227551072835922, 0.12915635108947754, 0.08636630326509476, 0.22905637323856354, 0.42742791771888733, 0.606462836265564, 0.3441878855228424, -1.060786247253418, -0.7238903641700745, -0.19848030805587769, 0.1697055846452713, 1.022754192352295, -0.32820865511894226, 0.32987770438194275, -0.3057599663734436, -0.44788768887519836, -0.08615504950284958, 0.9919740557670593, 0.3869154751300812, 1.0792629718780518, -0.15263085067272186, -0.5890563726425171, -0.5134915709495544, 0.3472519516944885, -0.30517852306365967, -0.25251054763793945, 0.4047882556915283, -0.03305753692984581, 0.3242036998271942, 1.1375854015350342, -0.9018555283546448, 0.02210080251097679, 0.24864248931407928, 0.3608945310115814, 0.0050844792276620865, -0.3903238773345947, -0.017684314399957657, 0.4514206051826477, 0.9192463755607605, 0.9080866575241089, -0.08219585567712784, -0.328503280878067, -1.17254638671875, -0.4803965985774994, 0.011549021117389202, 0.49643629789352417, -0.058602649718523026, -0.2672765851020813, 0.7224327325820923, 0.220247283577919, 0.7427079081535339, 0.5452150106430054, 0.11856275796890259, -0.6808323860168457, -0.6913946866989136, 0.0005914364010095596, -0.27222535014152527, 0.04078621044754982, 0.32661232352256775, 0.12027796357870102, -0.5008512735366821, 0.6016857624053955, -0.28690680861473083, 0.24367567896842957, 0.5130183100700378, -0.2542555034160614, 0.12637679278850555, -1.0057178735733032, -0.7387876510620117, 0.8046239614486694, 0.30285781621932983, 0.7079085111618042, -0.15185107290744781, 0.9597789645195007, -0.15901193022727966, -0.2310895472764969, -0.6068685054779053, -0.16623006761074066, -0.9855049848556519, 0.4242195188999176, 0.34560051560401917, -0.03878556936979294, 0.05436956137418747, 0.3793342411518097, -0.5073569416999817, -0.24116723239421844, -0.6042150259017944, -1.1966630220413208, 0.06162722408771515, -0.3808702230453491, 0.6320410370826721, 0.4019785523414612, -0.035491690039634705, -0.3506268560886383, -0.6808131337165833, 0.4595021903514862, -0.7867162823677063, -0.2412993460893631, 0.6486503481864929, 0.17342770099639893, 1.242577314376831, 0.07211530953645706, 0.6830829381942749, 0.40460944175720215, -0.26136115193367004, -0.18106670677661896, -0.37228402495384216, 0.3109760284423828, 1.153825283050537, -1.559261679649353, -0.03196800500154495, 0.2999512553215027, 0.14296361804008484, -0.45763498544692993, 0.4431706666946411, 0.24497337639331818, -0.27280762791633606, -0.7140388488769531, -0.47940367460250854, 0.17239771783351898, 0.09733843803405762, -0.06306112557649612, 1.2554957866668701, 0.24218913912773132, 0.5305388569831848, -0.13864435255527496, -0.4195222854614258, -0.15192033350467682, -0.010994523763656616, 0.5691971778869629, 0.5350064635276794, -0.9787828922271729, 0.6867753863334656, 0.10764767974615097, 0.2059238702058792, 0.6283037662506104, 0.7067376971244812, 0.20868243277072906, -0.6432409882545471, -0.639954686164856, -0.2843174338340759, -0.1442071795463562, 0.9751999974250793, 0.39825868606567383, -0.12787148356437683, 0.5518999695777893, -0.4108133316040039, 0.09755238890647888, 0.4965008795261383, 0.04839204251766205, -0.9698079228401184, 0.22393637895584106, -0.08044741302728653, -0.6468176245689392, 0.7584702372550964, 0.43135905265808105, -0.282378613948822, -0.30303487181663513, -0.6049609184265137, -0.501716136932373, -0.6882531642913818, 0.6011820435523987, 0.658697247505188, -0.8145354390144348, 0.004344611428678036, 1.0995357036590576, -0.5450596809387207, -0.16663047671318054, -0.1605863720178604, -0.58574378490448, 0.29473063349723816, -0.3381836712360382, 0.7726225256919861, 0.3617672622203827, -0.09167249500751495, -0.06429622322320938, 0.43770551681518555, -1.053257703781128, 0.3707813620567322, -0.4005705416202545, 0.6893014311790466, -1.0099364519119263, 1.0633580684661865, -0.7373218536376953, 0.3419800102710724, 0.2810538709163666, 0.022581135854125023, 0.26828867197036743, 0.5621597170829773, -0.053082313388586044, -0.13542814552783966, 0.28109416365623474, -0.837522029876709, -0.008322345092892647, -0.5436351299285889, 0.30409228801727295, -0.5256103277206421, 0.9928383231163025, 0.21863774955272675, 0.5446567535400391, 0.2985718846321106, -0.41601887345314026, -0.057690687477588654, 0.25640222430229187, -0.863580584526062, -0.8710448145866394, 0.19724047183990479, 1.2124087810516357, -0.08472808450460434, -0.13825087249279022, 0.29136767983436584, 1.140838384628296, 0.39311736822128296, -0.03323368728160858, 0.2056853026151657, 0.07266522943973541, 0.6849812865257263, -0.6446830034255981, -0.4588230848312378, -1.2580311298370361, 0.07664131373167038, 0.011034591123461723, -1.1322498321533203, 0.3053346574306488, 0.6123592853546143, 0.10534653067588806, -0.5444517731666565, 0.8997923135757446, -0.34916988015174866, -1.0952421426773071, 0.35503682494163513, 0.4837329685688019, -0.8882079720497131, 0.0610085166990757, 1.1751601696014404, 0.17025983333587646, -0.3271031379699707, -0.5963072180747986, -0.1826227456331253, -0.3440694212913513, -0.5104331970214844, 0.4848034083843231, -0.3316713273525238, 0.10966157168149948, 0.05550782382488251, 0.12906280159950256, 0.3868192434310913, -0.05331454426050186, -1.456047773361206, -0.19224895536899567, -0.631337583065033, 0.23269298672676086, 0.461933434009552, -0.6044597029685974, -0.9279375672340393, 0.266903817653656, 0.17485035955905914, -1.058004379272461, 1.5849928855895996, 0.7573489546775818, -0.4637327194213867, -0.5438836812973022, 1.0684341192245483, 0.13813240826129913, -0.49445638060569763, 0.4295506477355957, -0.2584364712238312, -0.13557271659374237, -0.6555437445640564, 0.2994428873062134, 0.417534202337265, 0.4388081133365631, -0.7110239863395691, 0.268659770488739, -0.17503312230110168, 0.13870911300182343, -0.7758130431175232, -0.5578474402427673, 0.216828852891922, -0.2616485059261322, -0.0639805942773819, -0.840255856513977, -1.0071532726287842, -0.16199538111686707, -0.10077566653490067, -0.3484530448913574, 0.2882625460624695, -0.24224047362804413, -0.16685299575328827, -0.11267279833555222, 0.20385368168354034, -0.47762295603752136, -0.3776291012763977, 0.6309792995452881, 0.28470003604888916, -0.19117774069309235, -0.7046686410903931, -0.39488500356674194, -0.7250692844390869, -0.11582133919000626, -0.7564972043037415, 0.1059141755104065, 0.06387029588222504, 0.10241392999887466, 0.35295310616493225, -1.1041849851608276, 0.13877029716968536, 1.383408546447754, 0.81451815366745, -1.2055861949920654, -0.08306009322404861, -0.04731203615665436, -1.269135594367981, 0.07888202369213104, 0.6791278719902039, 0.3322628140449524, 0.026606380939483643, 0.6907434463500977, 1.6578809022903442, -0.38082483410835266, 0.016738859936594963, -0.6854589581489563, -0.039439015090465546, 0.23027171194553375, -1.0950223207473755, -0.6989510655403137, -0.7432740330696106, -0.30218374729156494]\n"
     ]
    }
   ],
   "source": [
    "import requests\n",
    "import json\n",
    "\n",
    "# Define the text you want to embed\n",
    "text = \"Your text here.\"\n",
    "\n",
    "# Set up the request payload\n",
    "payload = {\n",
    "    \"model\": \"nomic-embed-text\",\n",
    "    \"prompt\": c_source,    \n",
    "}\n",
    "\n",
    "# Send the request to the Ollama API\n",
    "response = requests.post(\"http://localhost:11434/api/embeddings\", json=payload)\n",
    "\n",
    "# Check if the request was successful\n",
    "if response.status_code == 200:\n",
    "    # Parse the JSON response\n",
    "    data = response.json()\n",
    "    # Access the embedding\n",
    "    embedding = data.get(\"embedding\")\n",
    "    print(\"Embedding:\", embedding)\n",
    "else:\n",
    "    print(f\"Error: {response.status_code} - {response.text}\")\n"
   ]
  },
  {
   "cell_type": "code",
   "execution_count": 17,
   "metadata": {},
   "outputs": [
    {
     "name": "stdout",
     "output_type": "stream",
     "text": [
      "<class 'list'> 768\n"
     ]
    }
   ],
   "source": [
    "print(\n",
    "    type(embedding),\n",
    "    len(embedding),\n",
    ")"
   ]
  }
 ],
 "metadata": {
  "kernelspec": {
   "display_name": ".venv",
   "language": "python",
   "name": "python3"
  },
  "language_info": {
   "codemirror_mode": {
    "name": "ipython",
    "version": 3
   },
   "file_extension": ".py",
   "mimetype": "text/x-python",
   "name": "python",
   "nbconvert_exporter": "python",
   "pygments_lexer": "ipython3",
   "version": "3.12.2"
  }
 },
 "nbformat": 4,
 "nbformat_minor": 2
}
